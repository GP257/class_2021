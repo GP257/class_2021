{
 "cells": [
  {
   "cell_type": "markdown",
   "metadata": {},
   "source": [
    "\n",
    "# Parallel python\n",
    "\n",
    "We are going to learn about four different ways to parallelize problems in python: python threading module, Numba, Pytorch, and Dask. All four are useful but are generally aimed at attacking different types of parallel problems.\n",
    "\n",
    "We are going to begin with some important concepts that all parallel approaches deal with/hide from you. These concepts are going to keep coming up in all the different parallel approaches we use in the class.\n",
    "\n",
    "The first thing to understand is on modern computers hundreds of different tasks are running simultaneously. Most of these tasks spend 99%+ of their time sleeping. In any parallel approach the first thing you do is create a new thread.\n",
    "In its simplist form we are creating a completely dumb thread that runs completely independently from the main thread in the program.  The first approach we are\n",
    "going to cover creates a thread and tells it what to do by assigning it a function to\n",
    "run."
   ]
  },
  {
   "cell_type": "code",
   "execution_count": 1,
   "metadata": {},
   "outputs": [
    {
     "name": "stdout",
     "output_type": "stream",
     "text": [
      "/bin/sh: jt: command not found\r\n"
     ]
    }
   ],
   "source": [
    "import threading\n",
    "\n",
    "def findPrimes(lower,upper):  #calculate prime numbers in a range\n",
    "    for num in range(lower, upper + 1):\n",
    "       # all prime numbers are greater than 1\n",
    "        if num > 1:\n",
    "            for i in range(2, num):\n",
    "                if (num % i) == 0:\n",
    "                   break\n",
    "            else:\n",
    "               print(num)\n",
    "\n",
    "p=threading.Thread(target=findPrimes,args=(1000,2000)) #create a new thread object\n"
   ]
  },
  {
   "cell_type": "markdown",
   "metadata": {},
   "source": [
    "At this stage I've just defined what the thread is supposed to I haven't told it to begin.  I use the start function to tell the thread to do some work."
   ]
  },
  {
   "cell_type": "code",
   "execution_count": 2,
   "metadata": {},
   "outputs": [
    {
     "name": "stdout",
     "output_type": "stream",
     "text": [
      "1009\n",
      "1013\n",
      "1019\n",
      "1021\n",
      "1031\n",
      "1033\n",
      "1039\n",
      "1049\n",
      "1051\n",
      "1061\n",
      "1063\n",
      "1069\n",
      "1087\n",
      "1091\n",
      "1093\n",
      "1097\n",
      "1103\n",
      "1109\n",
      "1117\n",
      "1123\n",
      "1129\n",
      "1151\n",
      "1153\n",
      "1163\n",
      "1171\n",
      "1181\n",
      "1187\n",
      "1193\n",
      "1201\n",
      "1213\n",
      "1217\n",
      "1223\n",
      "1229\n",
      "1231\n",
      "1237\n",
      "1249\n",
      "1259\n",
      "1277\n",
      "1279\n",
      "1283\n",
      "1289\n",
      "1291\n",
      "1297\n",
      "1301\n",
      "1303\n",
      "1307\n",
      "1319\n",
      "1321\n",
      "1327\n",
      "1361\n",
      "1367\n",
      "1373\n",
      "1381\n",
      "1399\n",
      "1409\n",
      "1423\n",
      "1427\n",
      "1429\n",
      "1433\n",
      "1439\n",
      "1447\n",
      "1451\n",
      "1453\n",
      "1459\n",
      "1471\n",
      "1481\n",
      "1483\n",
      "1487\n",
      "1489\n",
      "1493\n",
      "1499\n",
      "1511\n",
      "1523\n",
      "1531\n",
      "1543\n",
      "1549\n",
      "1553\n",
      "1559\n",
      "1567\n",
      "1571\n",
      "1579\n",
      "1583\n",
      "1597\n",
      "1601\n",
      "1607\n",
      "1609\n",
      "1613\n",
      "1619\n",
      "1621\n",
      "1627\n",
      "1637\n",
      "1657\n",
      "1663\n",
      "1667\n",
      "1669\n",
      "1693\n",
      "1697\n",
      "1699\n",
      "1709\n",
      "1721\n",
      "1723\n",
      "1733\n",
      "1741\n",
      "1747\n",
      "1753\n",
      "1759\n",
      "1777\n",
      "1783\n",
      "1787\n",
      "1789\n",
      "1801\n",
      "1811\n",
      "1823\n",
      "1831\n",
      "1847\n",
      "1861\n",
      "1867\n",
      "1871\n",
      "1873\n",
      "1877\n",
      "1879\n",
      "1889\n",
      "1901\n",
      "1907\n",
      "1913\n",
      "1931\n",
      "1933\n",
      "1949\n",
      "1951\n",
      "1973\n",
      "1979\n",
      "1987\n",
      "1993\n",
      "1997\n",
      "1999\n"
     ]
    }
   ],
   "source": [
    "p.start()"
   ]
  },
  {
   "cell_type": "markdown",
   "metadata": {},
   "source": [
    "It is important to note that we now have two independent paths in our program. At this stage our main thread is continuing down our python code but the thread we've name *p* is executing only the function *findPrimes*. To demonstrate this concept. Look at the code below. What do you think will be printed."
   ]
  },
  {
   "cell_type": "code",
   "execution_count": 3,
   "metadata": {},
   "outputs": [
    {
     "name": "stderr",
     "output_type": "stream",
     "text": [
      "Exception in thread Thread-5:\n",
      "Traceback (most recent call last):\n",
      "  File \"/opt/anaconda3/lib/python3.7/threading.py\", line 926, in _bootstrap_inner\n",
      "    self.run()\n",
      "  File \"/opt/anaconda3/lib/python3.7/threading.py\", line 870, in run\n",
      "    self._target(*self._args, **self._kwargs)\n",
      "  File \"<ipython-input-3-7b924858c349>\", line 3, in lastPrime\n",
      "    print(last)\n",
      "UnboundLocalError: local variable 'last' referenced before assignment\n",
      "\n"
     ]
    }
   ],
   "source": [
    "last=0\n",
    "def lastPrime(lower,upper):  #calculate prime numbers in a range\n",
    "    print(last)\n",
    "    for num in range(lower, upper + 1):\n",
    "       # all prime numbers are greater than 1\n",
    "        if num > 1:\n",
    "           for i in range(2, num):\n",
    "                if (num % i) == 0:\n",
    "                   break\n",
    "        else:\n",
    "            last=num\n",
    "   \n",
    "p2=threading.Thread(target=lastPrime,args=(1000,2000)) #create a new thread object\n",
    "p2.start()\n"
   ]
  },
  {
   "cell_type": "markdown",
   "metadata": {},
   "source": [
    "You should be seeing an error because when you create a thread it by default has no knowledge of any variables that existed in our main program. Lets make a slight modification to our function and try again. This time passing in last."
   ]
  },
  {
   "cell_type": "code",
   "execution_count": 70,
   "metadata": {},
   "outputs": [
    {
     "name": "stdout",
     "output_type": "stream",
     "text": [
      "last in the main program 5\n"
     ]
    }
   ],
   "source": [
    "last=5\n",
    "def lastPrime(lower,upper,last):  #calculate prime numbers in a range\n",
    "    for num in range(lower, upper + 1):\n",
    "       # all prime numbers are greater than 1\n",
    "       if num > 1:\n",
    "            for i in range(2, num):\n",
    "                if (num % i) == 0:\n",
    "                    break\n",
    "            else:\n",
    "                last=num\n",
    "   \n",
    "p2=threading.Thread(target=lastPrime,args=(1000,2000,last)) #create a new thread object\n",
    "p2.start()\n",
    "\n",
    "print(\"last in the main program\",last)"
   ]
  },
  {
   "cell_type": "markdown",
   "metadata": {},
   "source": [
    "There are two possible reasons that 5 gets printed here. The first is that the program lastPrime has not started so last not been updated. To test this we can introduce a now thread function, *join*. The join function creates a barrier in the main program. Telling it wait for the tread to finish."
   ]
  },
  {
   "cell_type": "code",
   "execution_count": 71,
   "metadata": {},
   "outputs": [
    {
     "name": "stdout",
     "output_type": "stream",
     "text": [
      "last in the main program 5\n"
     ]
    }
   ],
   "source": [
    "last=5\n",
    "def lastPrime(lower,upper,last):  #calculate prime numbers in a range\n",
    "    for num in range(lower, upper + 1):\n",
    "       # all prime numbers are greater than 1\n",
    "       if num > 1:\n",
    "            for i in range(2, num):\n",
    "                if (num % i) == 0:\n",
    "                    break\n",
    "            else:\n",
    "                last=num\n",
    "   \n",
    "p2=threading.Thread(target=lastPrime,args=(1000,2000,last)) #create a new thread object\n",
    "p2.start()\n",
    "p2.join()\n",
    "print(\"last in the main program\",last)"
   ]
  },
  {
   "cell_type": "code",
   "execution_count": null,
   "metadata": {},
   "outputs": [],
   "source": []
  },
  {
   "cell_type": "markdown",
   "metadata": {},
   "source": [
    "Seeing 5 again shows you that the value of last is copied rather than the memory location. All of the basic types int, float, str will have this same behavior. If you remember the python notebook we saw that with more complicated types like lists we were actually passing references not the actual values. Take a guess what the following cell will produce before executing it."
   ]
  },
  {
   "cell_type": "code",
   "execution_count": 7,
   "metadata": {},
   "outputs": [
    {
     "name": "stdout",
     "output_type": "stream",
     "text": [
      "last in the main program [1553]\n"
     ]
    }
   ],
   "source": [
    "last=[5]\n",
    "def lastPrime(lower,upper,last):  #calculate prime numbers in a range\n",
    "    for num in range(lower, upper + 1):\n",
    "       # all prime numbers are greater than 1\n",
    "       if num > 1:\n",
    "            for i in range(2, num):\n",
    "                if (num % i) == 0:\n",
    "                    break\n",
    "            else:\n",
    "                last[0]=num\n",
    "   \n",
    "p3=threading.Thread(target=lastPrime,args=(1000,2000,last)) #create a new thread object\n",
    "p3.start()\n",
    "print(\"last in the main program\",last)"
   ]
  },
  {
   "cell_type": "markdown",
   "metadata": {},
   "source": [
    "If you execute the previous multiple times you should get different results. I've removed the join statement we are seeing the value of last at the instant that the main thread gets to the statement. That instance will vary from run to run. If we put back our join statement we get the expected result."
   ]
  },
  {
   "cell_type": "code",
   "execution_count": 98,
   "metadata": {},
   "outputs": [
    {
     "name": "stdout",
     "output_type": "stream",
     "text": [
      "last in the main program [1999]\n"
     ]
    }
   ],
   "source": [
    "last=[5]\n",
    "def lastPrime(lower,upper,last):  #calculate prime numbers in a range\n",
    "    for num in range(lower, upper + 1):\n",
    "       # all prime numbers are greater than 1\n",
    "       if num > 1:\n",
    "            for i in range(2, num):\n",
    "                if (num % i) == 0:\n",
    "                    break\n",
    "            else:\n",
    "                last[0]=num\n",
    "   \n",
    "p3=threading.Thread(target=lastPrime,args=(1000,2000,last)) #create a new thread object\n",
    "p3.start()\n",
    "p3.join()\n",
    "print(\"last in the main program\",last)"
   ]
  },
  {
   "cell_type": "markdown",
   "metadata": {},
   "source": [
    "Now lets introduce another thread and a new problem.\n"
   ]
  },
  {
   "cell_type": "code",
   "execution_count": 10,
   "metadata": {},
   "outputs": [
    {
     "name": "stdout",
     "output_type": "stream",
     "text": [
      "[1289487]\n"
     ]
    }
   ],
   "source": [
    "last=[0]\n",
    "def incrementMe(last):\n",
    "    for i in range(1000000):\n",
    "        last[0]=last[0]+1\n",
    "\n",
    "p4=threading.Thread(target=incrementMe,args=(last,)) #create a new thread object\n",
    "p5=threading.Thread(target=incrementMe,args=(last,)) #create a new thread object\n",
    "p4.start()\n",
    "p5.start()\n",
    "p4.join()\n",
    "p5.join()\n",
    "print(last)"
   ]
  },
  {
   "cell_type": "markdown",
   "metadata": {},
   "source": [
    "What we are seeing is the result of a race condition.  Both threads are changing the same value. The value of *last*. One way to think about it is p4 requests *last* before it has a chance to change it and have its value sent to cache and cache coherence between the different cores has been achieved thread p5 has requested the same value. The mechanism to deal with this problem is called a lock.  A lock, locks all but a single thread from accessing the code within the *with* statement.  Run the following cell and you can see we now get the correct answer."
   ]
  },
  {
   "cell_type": "code",
   "execution_count": 11,
   "metadata": {},
   "outputs": [
    {
     "name": "stdout",
     "output_type": "stream",
     "text": [
      "[2000000]\n",
      "CPU times: user 645 ms, sys: 23.4 ms, total: 668 ms\n",
      "Wall time: 695 ms\n"
     ]
    }
   ],
   "source": [
    "%%time\n",
    "last=[0]\n",
    "def incrementMe(last,lock):\n",
    "    for i in range(1000000):\n",
    "        with lock:\n",
    "            last[0]=last[0]+1\n",
    "\n",
    "lock=threading.Lock()\n",
    "p4=threading.Thread(target=incrementMe,args=(last,lock)) #create a new thread object\n",
    "p5=threading.Thread(target=incrementMe,args=(last,lock)) #create a new thread object\n",
    "p4.start()\n",
    "p5.start()\n",
    "p4.join()\n",
    "p5.join()\n",
    "print(last)"
   ]
  },
  {
   "cell_type": "markdown",
   "metadata": {},
   "source": [
    "Locks have  a significant downside. They are barrier statements. A thread is stopped (doing nothing) until it acquires a lock. In this trivial example we have basically made a parallel program serial plus the added cost of acquiring the lock. Play with the following cell adjusting the number of threads."
   ]
  },
  {
   "cell_type": "code",
   "execution_count": 16,
   "metadata": {},
   "outputs": [
    {
     "name": "stdout",
     "output_type": "stream",
     "text": [
      "[10000000]\n",
      "CPU times: user 47.6 s, sys: 2min 41s, total: 3min 28s\n",
      "Wall time: 1min 35s\n"
     ]
    }
   ],
   "source": [
    "%%time\n",
    "last=[0]\n",
    "def incrementMe(last,lock,num):\n",
    "    for i in range(num):\n",
    "        with lock:\n",
    "            last[0]=last[0]+1\n",
    "\n",
    "lock=threading.Lock()\n",
    "nthreads=100\n",
    "countTo=int(1000*1000*10/nthreads)\n",
    "ps=[]\n",
    "for i in range(nthreads):\n",
    "    ps.append(threading.Thread(target=incrementMe,args=(last,lock,countTo)))\n",
    "\n",
    "for p in ps:\n",
    "    p.start()\n",
    "\n",
    "for p in ps:\n",
    "    p.join()\n",
    "\n",
    "print(last)\n"
   ]
  },
  {
   "cell_type": "markdown",
   "metadata": {},
   "source": [
    "If we do loop on a single thread. The performance is orders of magnitude better."
   ]
  },
  {
   "cell_type": "code",
   "execution_count": 116,
   "metadata": {},
   "outputs": [
    {
     "name": "stdout",
     "output_type": "stream",
     "text": [
      "CPU times: user 3 µs, sys: 1e+03 ns, total: 4 µs\n",
      "Wall time: 6.91 µs\n"
     ]
    }
   ],
   "source": [
    "%time\n",
    "last=[0]\n",
    "for i in range(10*1000*1000):\n",
    "    last[0]+=1"
   ]
  },
  {
   "cell_type": "markdown",
   "metadata": {},
   "source": [
    "The lesson is when doing things in parallel you want to code in a pattern or style that avoids the needs for locks as much as possible.\n",
    "\n",
    "## An example when threading is useful\n",
    "\n",
    "Lets say you need to process a large number of files.  The processing of these files involves reading them, applying some filter to them, and writing them out.  You time the various parts of your code and figure out that the IO takes about the same amount of time as the actual processing."
   ]
  },
  {
   "cell_type": "code",
   "execution_count": null,
   "metadata": {},
   "outputs": [],
   "source": []
  },
  {
   "cell_type": "code",
   "execution_count": 132,
   "metadata": {},
   "outputs": [],
   "source": [
    "class buffer:\n",
    "    \"\"\"A Simple class that stores my data\"\"\"\n",
    "    def __init__(self,sz):\n",
    "        self._buf=[]\n",
    "        self._sz=sz;\n",
    "\n",
    "        \n",
    "        \n",
    "def readFile(self,filename,buf):\n",
    "    \"\"\"I am going to read the file from source....normally\"\"\"\n",
    "    #f.open(filename)\n",
    "    pass;\n",
    "\n",
    "def writeFile(self,filename,buf):\n",
    "    \"\"\"I am going to write the file to some destination....normally\"\"\"\n",
    "    #f=open(filename,w+)\n",
    "    pass;\n",
    "\n",
    "def processData(bufIn,bufOut):\n",
    "    \"\"\"Process the data\"\"\"\n",
    "    pass;        \n",
    "\n",
    "class proccessALot:\n",
    "    def __init__(self,fileList,nsz):\n",
    "        self._fileList=fileList\n",
    "        self._nsz=nsz\n",
    "\n",
    "    def processList(fileList,nsz):\n",
    "        \"\"\"Read an process a bunch of files\"\"\"\n",
    "        bufRead=buffer(nsz)\n",
    "        bufWrite=buffer(nsz)  #buffer used for writing\n",
    "        bufIn=buffer(nsz)   #buffer used for processing input\n",
    "        bufOut=buffer(nsz)  #buffer used for processing output\n",
    "       \n",
    "        readThread=threading.Thread(target=readFile,args=(fileList[0],bufRead))\n",
    "        readThread.start() #start the first thread\n",
    "    \n",
    "        for i in range(len(fileList)):\n",
    "            readThread.join()\n",
    "            bt=bufIn  #store temp location\n",
    "            bufIn=bufRead # Remember this just makes a copy of the pointer to memory\n",
    "            bufRead=bt #Finish pointer swap\n",
    "            if i < len(fileList)-1:\n",
    "                readThread=threading.Thread(target=readFile,args=(fileList[i+1],bufRead))\n",
    "                readThread.start() \n",
    "            processData(bufIn,bufOut)\n",
    "            if i>0:\n",
    "                writeThread.join()\n",
    "            bt=bufWrite\n",
    "            bufWrite=bufOut\n",
    "            bufOut=bt\n",
    "            writeTread=threading.Thread(target=writeFile,args=(fileList[i],bufWrite))\n",
    "        writeThread.join()\n",
    "        \n",
    "    \n",
    "    \n",
    "    "
   ]
  },
  {
   "cell_type": "markdown",
   "metadata": {},
   "source": [
    "We now have a function that will overlap the processing with the reading and writing. We could expand. We could try making this even more parallel by having splitting up the list into smaller lists and either have them run on different machines or on the same machine. For example this is how we can expand on the capabilities of our processAlot function on a single machine."
   ]
  },
  {
   "cell_type": "code",
   "execution_count": 136,
   "metadata": {},
   "outputs": [],
   "source": [
    "import math\n",
    "class processParallelLocal(proccessALot):\n",
    "    def __init__(self,fileList,nsz,ninstances):\n",
    "        super().__init__(fileList,nsz)\n",
    "        self._ninstances=ninstances\n",
    "    def DoWork(self):\n",
    "        n=self._ninstances\n",
    "        ibeg=0\n",
    "        nd=len(fileList)\n",
    "        threads=[]\n",
    "        for i in range(self._ninstances):\n",
    "            nb=math.ceil(nd/n)\n",
    "            lst=fileList[ibeg:ibeg+nb]\n",
    "            lout=lst[ibeg:ibeg+nb]\n",
    "            n=n-1\n",
    "            nd=nd-nb\n",
    "            ibeg+=nb\n",
    "            threads.append(threading.Thread(target=self.processList,args=(lout,self._nsz)))\n",
    "        for t in threads:\n",
    "            t.start()\n",
    "        for t in threads:\n",
    "            t.join()\n",
    "            "
   ]
  },
  {
   "cell_type": "markdown",
   "metadata": {},
   "source": [
    "We've now can process multiple files simultaneously on one machine."
   ]
  },
  {
   "cell_type": "markdown",
   "metadata": {},
   "source": [
    "## Calculating pi\n",
    "\n",
    "There are several different ways to caculate pi. One of the more interesting is to use random numbers.  Imagine drawing $\\frac{1}{4}$ of a circle centered at zero with a radius of 1 in a the plane bounded by the x and y axis and $x=1$ and $y=1$. The area of the $\\frac{1}{4}$ of the circle is $\\frac{\\pi r^2}{4}= \\frac{\\pi}{4}$ with the area of the entire domain being is 1. If we select a random location in the plane we should have a $\\frac{\\pi}{4}$ chance of being inside the circle.  The more random guesses we test to see if we are inside the circle the better our estimate of $\\pi$. The following function demonstrates the concept. Note that I am going to write the function using numba to improve speed."
   ]
  },
  {
   "cell_type": "code",
   "execution_count": 18,
   "metadata": {},
   "outputs": [],
   "source": [
    "import numba\n",
    "import numpy as np\n",
    "@numba.jit(nopython=True)\n",
    "def calcPi(num):\n",
    "    tot=0\n",
    "    inside=0\n",
    "    while tot < num:\n",
    "        blk=int(min(num-tot,1000*1000))\n",
    "        x=np.random.rand(blk)\n",
    "        y=np.random.rand(blk)\n",
    "        for i in range(blk):\n",
    "            if x[i]*x[i]+y[i]*y[i] <=1.:\n",
    "                inside+=1\n",
    "        tot+=blk\n",
    "    return inside/num*4\n",
    "    "
   ]
  },
  {
   "cell_type": "code",
   "execution_count": 24,
   "metadata": {},
   "outputs": [
    {
     "name": "stdout",
     "output_type": "stream",
     "text": [
      "3.1414812\n"
     ]
    }
   ],
   "source": [
    "print(calcPi(10000000))"
   ]
  },
  {
   "cell_type": "markdown",
   "metadata": {},
   "source": [
    "In order to parallelize this algorithm we are going to do a common parallelization technique we are going to increase the dimensionality of the output vector and handle it after a parallel region."
   ]
  },
  {
   "cell_type": "code",
   "execution_count": 25,
   "metadata": {},
   "outputs": [
    {
     "name": "stdout",
     "output_type": "stream",
     "text": [
      "3.141631704\n"
     ]
    }
   ],
   "source": [
    "import threading\n",
    "import numpy as np\n",
    "@numba.jit(nopython=True)\n",
    "def calcPi(num,res,ith):\n",
    "    tot=0\n",
    "    inside=0\n",
    "    while tot < num:\n",
    "        blk=int(min(num-tot,1000*1000))\n",
    "        x=np.random.rand(blk)\n",
    "        y=np.random.rand(blk)\n",
    "        for i in range(blk):\n",
    "            if x[i]*x[i]+y[i]*y[i] <=1.:\n",
    "                inside+=1\n",
    "        tot+=blk\n",
    "    res[ith]=inside/num*4\n",
    "nthreads=5\n",
    "nattempts=1000*1000*1000\n",
    "perThreadAttempts=int(nattempts/nthreads)\n",
    "threads=[]\n",
    "pie=np.zeros(nthreads)\n",
    "for i in range(nthreads):\n",
    "    threads.append(threading.Thread(target=calcPi,args=(perThreadAttempts,pie,i)))\n",
    "for t in threads:\n",
    "    t.start()\n",
    "for t in threads:\n",
    "    t.join()\n",
    "tot=0\n",
    "for p in pie:\n",
    "    tot+=p/nthreads\n",
    "print(tot)"
   ]
  },
  {
   "cell_type": "markdown",
   "metadata": {},
   "source": [
    "### Parallelizing in Numba\n",
    "\n",
    "In the above example what we really did is break up into nthread pieces, have different threads run different portions of the loop and then combine the result at the end. This is probably the most common parallelization technique used in numerical calculations and is supported by virtually all parallelization libraries in a simpler form.  In numba all we need to do is add the *parallel=True* to jit line."
   ]
  },
  {
   "cell_type": "code",
   "execution_count": 27,
   "metadata": {},
   "outputs": [
    {
     "name": "stdout",
     "output_type": "stream",
     "text": [
      "CPU times: user 30 s, sys: 3.38 s, total: 33.4 s\n",
      "Wall time: 10.3 s\n"
     ]
    },
    {
     "data": {
      "text/plain": [
       "3.141608788"
      ]
     },
     "execution_count": 27,
     "metadata": {},
     "output_type": "execute_result"
    }
   ],
   "source": [
    "%%time\n",
    "@numba.jit(nopython=True,parallel=True)\n",
    "def calcPi(num):\n",
    "    tot=0\n",
    "    inside=0\n",
    "    blk=1000*1000\n",
    "    while tot < num:\n",
    "        blk=int(min(num-tot,blk))\n",
    "        x=np.random.rand(blk)\n",
    "        y=np.random.rand(blk)\n",
    "        for i in range(blk):\n",
    "            if x[i]*x[i]+y[i]*y[i] <=1.:\n",
    "                inside+=1\n",
    "        tot+=blk\n",
    "    return inside/num*4\n",
    "calcPi(1000*1000*1000)"
   ]
  },
  {
   "cell_type": "markdown",
   "metadata": {},
   "source": [
    "What numba is actually doing is parallelizing the for loop.  It creates a number of parallel threads that are each assinged to different portions of the range of *blk*. It also notices that each thread needs its own copy of *inside* and that the results of each threads version of *inside* needs to be summed at the end of the loop.  Try adjusting *blk*.  What you should notice is if you make the size of *blk* to small the total compute time goes up because the cost of setting up and destroying the parallel region comes to dominate. "
   ]
  },
  {
   "cell_type": "markdown",
   "metadata": {},
   "source": [
    "## Terminology\n",
    "\n",
    "The above examples introduce the need for some additional terminology when dealing with parallel loops. The important terms \n",
    "\n",
    "- private Variables that each thread has their own copy of\n",
    "- shared  Variables that all threads share\n",
    "- reduction Variables that combined in some manner at the end of a loop\n",
    "- firstprivate, lastprivate - For private variables that also exist in the main what to set the main variables to when entering and existing a parallel region\n",
    "\n",
    "\n"
   ]
  },
  {
   "cell_type": "code",
   "execution_count": 1,
   "metadata": {},
   "outputs": [],
   "source": [
    "import threading\n",
    "import numpy as np\n",
    "import numba\n",
    "import math\n",
    "@numba.njit()\n",
    "def squareIt(ar,parallel=True):\n",
    "    for i3 in numba.prange(ar.shape[0]):\n",
    "        for i2 in range(ar.shape[1]):\n",
    "            for i1 in range(ar.shape[2]):\n",
    "                ar[i3,i2,i1]=ar[i3,i2,i1]*ar[i3,i2,i1]"
   ]
  },
  {
   "cell_type": "code",
   "execution_count": 2,
   "metadata": {},
   "outputs": [],
   "source": [
    "x=np.random.rand(1000,10000,100)\n",
    "\n",
    "    "
   ]
  },
  {
   "cell_type": "code",
   "execution_count": 74,
   "metadata": {},
   "outputs": [
    {
     "name": "stdout",
     "output_type": "stream",
     "text": [
      "CPU times: user 29.6 s, sys: 11.5 s, total: 41.1 s\n",
      "Wall time: 46 s\n"
     ]
    }
   ],
   "source": [
    "%%time\n",
    "for i in range(5):\n",
    "    squareIt(x)"
   ]
  },
  {
   "cell_type": "code",
   "execution_count": 1,
   "metadata": {},
   "outputs": [
    {
     "ename": "TypeError",
     "evalue": "write() argument must be str, not int",
     "output_type": "error",
     "traceback": [
      "\u001b[0;31m---------------------------------------------------------------------------\u001b[0m",
      "\u001b[0;31mTypeError\u001b[0m                                 Traceback (most recent call last)",
      "\u001b[0;32m<ipython-input-1-81a755064a12>\u001b[0m in \u001b[0;36m<module>\u001b[0;34m\u001b[0m\n\u001b[1;32m      1\u001b[0m \u001b[0mf\u001b[0m\u001b[0;34m=\u001b[0m\u001b[0mopen\u001b[0m\u001b[0;34m(\u001b[0m\u001b[0;34m\"log\"\u001b[0m\u001b[0;34m,\u001b[0m\u001b[0;34m\"w\"\u001b[0m\u001b[0;34m)\u001b[0m\u001b[0;34m\u001b[0m\u001b[0;34m\u001b[0m\u001b[0m\n\u001b[1;32m      2\u001b[0m \u001b[0;32mfor\u001b[0m \u001b[0mi\u001b[0m \u001b[0;32min\u001b[0m \u001b[0mrange\u001b[0m\u001b[0;34m(\u001b[0m\u001b[0;36m1000\u001b[0m\u001b[0;34m)\u001b[0m\u001b[0;34m:\u001b[0m\u001b[0;34m\u001b[0m\u001b[0;34m\u001b[0m\u001b[0m\n\u001b[0;32m----> 3\u001b[0;31m     \u001b[0mf\u001b[0m\u001b[0;34m.\u001b[0m\u001b[0mwrite\u001b[0m\u001b[0;34m(\u001b[0m\u001b[0mi\u001b[0m\u001b[0;34m)\u001b[0m\u001b[0;34m\u001b[0m\u001b[0;34m\u001b[0m\u001b[0m\n\u001b[0m\u001b[1;32m      4\u001b[0m \u001b[0;34m\u001b[0m\u001b[0m\n\u001b[1;32m      5\u001b[0m \u001b[0;34m\u001b[0m\u001b[0m\n",
      "\u001b[0;31mTypeError\u001b[0m: write() argument must be str, not int"
     ]
    }
   ],
   "source": []
  },
  {
   "cell_type": "code",
   "execution_count": 15,
   "metadata": {},
   "outputs": [],
   "source": [
    "import threading\n",
    "import numpy as np\n",
    "import numba\n",
    "import math\n",
    "@numba.njit()\n",
    "def mathOp(ar):\n",
    "    for i3 in range(ar.shape[0]):\n",
    "        for i2 in range(ar.shape[1]):\n",
    "            for i1 in range(ar.shape[2]):\n",
    "                ar[i3,i2,i1]=math.sin(math.cos(ar[i3,i2,i1])*math.sin(ar[i3,i2,i1]))"
   ]
  },
  {
   "cell_type": "code",
   "execution_count": 16,
   "metadata": {},
   "outputs": [
    {
     "name": "stdout",
     "output_type": "stream",
     "text": [
      "CPU times: user 1min 50s, sys: 120 ms, total: 1min 50s\n",
      "Wall time: 1min 50s\n"
     ]
    }
   ],
   "source": [
    "%%time\n",
    "for i in range(5):\n",
    "    mathOp(x)"
   ]
  },
  {
   "cell_type": "code",
   "execution_count": 3,
   "metadata": {},
   "outputs": [],
   "source": [
    "import threading\n",
    "import numpy as np\n",
    "import numba\n",
    "import math\n",
    "@numba.njit(parallel=True)\n",
    "def mathOpP1(ar):\n",
    "    for i3 in range(ar.shape[0]):\n",
    "        for i2 in range(ar.shape[1]):\n",
    "            for i1 in numba.prange(ar.shape[2]):\n",
    "                ar[i3,i2,i1]=math.sin(math.cos(ar[i3,i2,i1])*math.sin(ar[i3,i2,i1]))"
   ]
  },
  {
   "cell_type": "code",
   "execution_count": null,
   "metadata": {},
   "outputs": [],
   "source": [
    "%%time\n",
    "for i in range(5):\n",
    "    mathOpP1(x)"
   ]
  },
  {
   "cell_type": "code",
   "execution_count": 4,
   "metadata": {},
   "outputs": [],
   "source": [
    "import threading\n",
    "import numpy as np\n",
    "import numba\n",
    "import math\n",
    "@numba.njit(parallel=True)\n",
    "def mathOpP1(ar):\n",
    "    for i3 in numba.prange(ar.shape[0]):\n",
    "        for i2 in range(ar.shape[1]):\n",
    "            for i1 in range(ar.shape[2]):\n",
    "                ar[i3,i2,i1]=math.sin(math.cos(ar[i3,i2,i1])*math.sin(ar[i3,i2,i1]))"
   ]
  },
  {
   "cell_type": "code",
   "execution_count": 5,
   "metadata": {},
   "outputs": [
    {
     "name": "stdout",
     "output_type": "stream",
     "text": [
      "CPU times: user 6min 46s, sys: 472 ms, total: 6min 46s\n",
      "Wall time: 15.5 s\n"
     ]
    }
   ],
   "source": [
    "%%time\n",
    "for i in range(5):\n",
    "    mathOpP1(x)"
   ]
  },
  {
   "cell_type": "code",
   "execution_count": 6,
   "metadata": {},
   "outputs": [],
   "source": [
    "import threading\n",
    "import numpy as np\n",
    "import numba\n",
    "import math\n",
    "@numba.njit(parallel=True)\n",
    "def mathOpP2(ar):\n",
    "    for i3 in range(ar.shape[0]):\n",
    "        for i2 in numba.prange(ar.shape[1]):\n",
    "            for i1 in range(ar.shape[2]):\n",
    "                ar[i3,i2,i1]=math.sin(math.cos(ar[i3,i2,i1])*math.sin(ar[i3,i2,i1]))"
   ]
  },
  {
   "cell_type": "code",
   "execution_count": 8,
   "metadata": {},
   "outputs": [
    {
     "name": "stdout",
     "output_type": "stream",
     "text": [
      "CPU times: user 5min 44s, sys: 4.01 s, total: 5min 48s\n",
      "Wall time: 12.2 s\n"
     ]
    }
   ],
   "source": [
    "%%time\n",
    "for i in range(5):\n",
    "    mathOpP2(x)"
   ]
  },
  {
   "cell_type": "markdown",
   "metadata": {},
   "source": [
    "$\\frac{\\partial^2 u}{\\partial t^2}=v^2\\nabla^2 U$\n",
    "\n",
    "u[t+1,ix,iy,iz] -2 u[t,ix,iy,iz] + u[t-1,ix,iy,iz] = v^2 ( 8 * u[t,ix,iy,iz]- u[t,ix-1,iy,iz]-u[t,ix+1,iy,iz] -u[t,ix,iy+1,iz] - u[t,ix,iy-1,iz] - u[t,ix,iy,iz+1] - u[t,ix,iy,iz-1])"
   ]
  },
  {
   "cell_type": "code",
   "execution_count": null,
   "metadata": {},
   "outputs": [],
   "source": []
  }
 ],
 "metadata": {
  "kernelspec": {
   "display_name": "Python 3",
   "language": "python",
   "name": "python3"
  },
  "language_info": {
   "codemirror_mode": {
    "name": "ipython",
    "version": 3
   },
   "file_extension": ".py",
   "mimetype": "text/x-python",
   "name": "python",
   "nbconvert_exporter": "python",
   "pygments_lexer": "ipython3",
   "version": "3.7.4"
  },
  "latex_envs": {
   "LaTeX_envs_menu_present": true,
   "autoclose": false,
   "autocomplete": true,
   "bibliofile": "biblio.bib",
   "cite_by": "apalike",
   "current_citInitial": 1,
   "eqLabelWithNumbers": true,
   "eqNumInitial": 1,
   "hotkeys": {
    "equation": "Ctrl-E",
    "itemize": "Ctrl-I"
   },
   "labels_anchors": false,
   "latex_user_defs": false,
   "report_style_numbering": false,
   "user_envs_cfg": false
  },
  "toc": {
   "base_numbering": 1,
   "nav_menu": {},
   "number_sections": true,
   "sideBar": true,
   "skip_h1_title": false,
   "title_cell": "Table of Contents",
   "title_sidebar": "Contents",
   "toc_cell": false,
   "toc_position": {},
   "toc_section_display": true,
   "toc_window_display": false
  }
 },
 "nbformat": 4,
 "nbformat_minor": 2
}
