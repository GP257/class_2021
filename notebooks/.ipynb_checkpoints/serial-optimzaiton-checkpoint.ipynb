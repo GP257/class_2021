{
 "cells": [
  {
   "cell_type": "markdown",
   "metadata": {},
   "source": [
    "# Optimization techniques\n",
    " - Loop unrolling\n",
    " - Loop interchange\n",
    " - Vectorizing operations\n",
    " - Loop unswitching\n",
    " - Loop nest optimization\n",
    " - Loop invariant code motion\n",
    " - Inlining\n",
    " - Machine specific optimizations"
   ]
  },
  {
   "cell_type": "markdown",
   "metadata": {},
   "source": [
    "## Why optimzation techniques are important\n",
    "- Optimized code runs at least 5 times fast4er than unoptimized code (a factor of 50 is not unheard of)\n",
    "- The compiler can't always recognize when it can apply an optimization technique, so it becomes your responsibility\n",
    "- If the compiler is to aggressive in its optimizations, it can create bugs"
   ]
  },
  {
   "cell_type": "markdown",
   "metadata": {},
   "source": [
    "## Anatomy of a loop"
   ]
  },
  {
   "cell_type": "code",
   "execution_count": 1,
   "metadata": {},
   "outputs": [],
   "source": [
    "import numpy as np\n",
    "outA=np.zeros(1000000)\n",
    "inA=np.zeros(1000000)\n",
    "for i in range(outA.shape[0]):\n",
    "    outA[i]=inA[i]*inA[i]"
   ]
  },
  {
   "cell_type": "markdown",
   "metadata": {},
   "source": [
    "i=0\n",
    "do{\n",
    "  if i >=n: break\n",
    "  outA[i]=inA[i]*inA[i]\n",
    "  i=i+1\n",
    "}\n",
    "  "
   ]
  },
  {
   "cell_type": "markdown",
   "metadata": {},
   "source": [
    "## Loop unrolling\n",
    " \n",
    "\n",
    "By unrolling the loop we have less jumps and conditional checks. The longer code will take up more registers.\n"
   ]
  },
  {
   "cell_type": "code",
   "execution_count": null,
   "metadata": {},
   "outputs": [],
   "source": [
    "import numpy as np\n",
    "outA=np.zeros(1000000)\n",
    "inA=np.zeros(1000000)\n",
    "for i in range(outA.shape[0],4):\n",
    "    outA[i]=inA[i]*inA[i]   \n",
    "    outA[i+1]=inA[i+1]*inA[i+1]\n",
    "    outA[i+2]=inA[i+2]*inA[i+2]    \n",
    "    outA[i+3]=inA[i+3]*inA[i+3]   "
   ]
  },
  {
   "cell_type": "markdown",
   "metadata": {},
   "source": [
    "By unrolling the loop we have less jumps and conditional checks. The longer code will take up more registers.\n",
    "\n",
    "i=0\n",
    "do{\n",
    "  outA[i]=inA[i]*inA[i]\n",
    "  outA[i+1]=inA[i+1]*inA[i+1]\n",
    "  outA[i+2]=inA[i+2]*inA[i+2]\n",
    "  outA[i+3]=inA[i+3]*inA[i+3]\n",
    "  i=i+4\n",
    "}\n"
   ]
  },
  {
   "cell_type": "markdown",
   "metadata": {},
   "source": [
    "## Loop interchange"
   ]
  },
  {
   "cell_type": "code",
   "execution_count": 10,
   "metadata": {},
   "outputs": [
    {
     "name": "stdout",
     "output_type": "stream",
     "text": [
      "CPU times: user 6.81 s, sys: 84.2 ms, total: 6.9 s\n",
      "Wall time: 6.95 s\n"
     ]
    }
   ],
   "source": [
    "%%time\n",
    "inA=np.zeros((1000,10000))\n",
    "outA=np.zeros((1000,10000))\n",
    "for i1 in range(outA.shape[1]):\n",
    "    for i2 in range(outA.shape[0]):\n",
    "        outA[i2,i1]=inA[i2,i1]*inA[i2,i1]\n"
   ]
  },
  {
   "cell_type": "code",
   "execution_count": 12,
   "metadata": {},
   "outputs": [
    {
     "ename": "IndentationError",
     "evalue": "expected an indented block (<unknown>, line 6)",
     "output_type": "error",
     "traceback": [
      "Traceback \u001b[0;36m(most recent call last)\u001b[0m:\n",
      "  File \u001b[1;32m\"/opt/anaconda3/lib/python3.7/site-packages/IPython/core/interactiveshell.py\"\u001b[0m, line \u001b[1;32m3326\u001b[0m, in \u001b[1;35mrun_code\u001b[0m\n    exec(code_obj, self.user_global_ns, self.user_ns)\n",
      "  File \u001b[1;32m\"<ipython-input-12-efabb36446de>\"\u001b[0m, line \u001b[1;32m1\u001b[0m, in \u001b[1;35m<module>\u001b[0m\n    get_ipython().run_cell_magic('time', '', 'import numba\\ninA=np.zeros((1000,10000))\\noutA=np.zeros((1000,10000))\\n@numba.jit()\\ndef goodLoop(inA,outA):\\nfor i2 in range(outA.shape[0]):\\n    for i1 in range(outA.shape[1]):\\n        outA[i2,i1]=inA[i2,i1]*inA[i2,i1]\\n\\ngoodLoop()\\n')\n",
      "  File \u001b[1;32m\"/opt/anaconda3/lib/python3.7/site-packages/IPython/core/interactiveshell.py\"\u001b[0m, line \u001b[1;32m2359\u001b[0m, in \u001b[1;35mrun_cell_magic\u001b[0m\n    result = fn(*args, **kwargs)\n",
      "  File \u001b[1;32m\"</opt/anaconda3/lib/python3.7/site-packages/decorator.py:decorator-gen-61>\"\u001b[0m, line \u001b[1;32m2\u001b[0m, in \u001b[1;35mtime\u001b[0m\n",
      "  File \u001b[1;32m\"/opt/anaconda3/lib/python3.7/site-packages/IPython/core/magic.py\"\u001b[0m, line \u001b[1;32m187\u001b[0m, in \u001b[1;35m<lambda>\u001b[0m\n    call = lambda f, *a, **k: f(*a, **k)\n",
      "  File \u001b[1;32m\"/opt/anaconda3/lib/python3.7/site-packages/IPython/core/magics/execution.py\"\u001b[0m, line \u001b[1;32m1266\u001b[0m, in \u001b[1;35mtime\u001b[0m\n    expr_ast = self.shell.compile.ast_parse(expr)\n",
      "\u001b[0;36m  File \u001b[0;32m\"/opt/anaconda3/lib/python3.7/site-packages/IPython/core/compilerop.py\"\u001b[0;36m, line \u001b[0;32m101\u001b[0;36m, in \u001b[0;35mast_parse\u001b[0;36m\u001b[0m\n\u001b[0;31m    return compile(source, filename, symbol, self.flags | PyCF_ONLY_AST, 1)\u001b[0m\n",
      "\u001b[0;36m  File \u001b[0;32m\"<unknown>\"\u001b[0;36m, line \u001b[0;32m6\u001b[0m\n\u001b[0;31m    for i2 in range(outA.shape[0]):\u001b[0m\n\u001b[0m      ^\u001b[0m\n\u001b[0;31mIndentationError\u001b[0m\u001b[0;31m:\u001b[0m expected an indented block\n"
     ]
    }
   ],
   "source": [
    "%%time\n",
    "import numba\n",
    "inA=np.zeros((1000,10000))\n",
    "outA=np.zeros((1000,10000))\n",
    "@numba.jit()\n",
    "def goodLoop(inA,outA):\n",
    "    for i2 in range(outA.shape[0]):\n",
    "        for i1 in range(outA.shape[1]):\n",
    "            outA[i2,i1]=inA[i2,i1]*inA[i2,i1]\n",
    "\n",
    "goodLoop()"
   ]
  },
  {
   "cell_type": "code",
   "execution_count": null,
   "metadata": {},
   "outputs": [],
   "source": []
  }
 ],
 "metadata": {
  "kernelspec": {
   "display_name": "Python 3",
   "language": "python",
   "name": "python3"
  },
  "language_info": {
   "codemirror_mode": {
    "name": "ipython",
    "version": 3
   },
   "file_extension": ".py",
   "mimetype": "text/x-python",
   "name": "python",
   "nbconvert_exporter": "python",
   "pygments_lexer": "ipython3",
   "version": "3.7.4"
  },
  "latex_envs": {
   "LaTeX_envs_menu_present": true,
   "autoclose": false,
   "autocomplete": true,
   "bibliofile": "biblio.bib",
   "cite_by": "apalike",
   "current_citInitial": 1,
   "eqLabelWithNumbers": true,
   "eqNumInitial": 1,
   "hotkeys": {
    "equation": "Ctrl-E",
    "itemize": "Ctrl-I"
   },
   "labels_anchors": false,
   "latex_user_defs": false,
   "report_style_numbering": false,
   "user_envs_cfg": false
  },
  "toc": {
   "base_numbering": 1,
   "nav_menu": {},
   "number_sections": true,
   "sideBar": true,
   "skip_h1_title": false,
   "title_cell": "Table of Contents",
   "title_sidebar": "Contents",
   "toc_cell": false,
   "toc_position": {},
   "toc_section_display": true,
   "toc_window_display": false
  }
 },
 "nbformat": 4,
 "nbformat_minor": 2
}
