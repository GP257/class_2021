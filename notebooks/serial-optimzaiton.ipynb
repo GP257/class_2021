{
 "cells": [
  {
   "cell_type": "markdown",
   "metadata": {},
   "source": [
    "# Optimization techniques\n",
    " - Loop unrolling\n",
    " - Loop interchange\n",
    " - Vectorizing operations\n",
    " - Loop unswitching\n",
    " - Loop nest optimization\n",
    " - Loop invariant code motion\n",
    " - Inlining\n",
    " - Machine specific optimizations"
   ]
  },
  {
   "cell_type": "markdown",
   "metadata": {},
   "source": [
    "## Why optimzation techniques are important\n",
    "- Optimized code runs at least 5 times faster than unoptimized code (a factor of 50 is not unheard of)\n",
    "- The compiler can't always recognize when it can apply an optimization technique, so it becomes your responsibility\n",
    "- If the compiler is to aggressive in its optimizations, it can create bugs"
   ]
  },
  {
   "cell_type": "markdown",
   "metadata": {},
   "source": [
    "## Anatomy of a loop"
   ]
  },
  {
   "cell_type": "code",
   "execution_count": 2,
   "metadata": {},
   "outputs": [],
   "source": [
    "import numpy as np\n",
    "outA=np.zeros(1000000)\n",
    "inA=np.zeros(1000000)\n",
    "for i in range(outA.shape[0]):\n",
    "    outA[i]=inA[i]*inA[i]"
   ]
  },
  {
   "cell_type": "markdown",
   "metadata": {},
   "source": [
    "i=0\n",
    "do{\n",
    "  if i >=n: break\n",
    "  outA[i]=inA[i]*inA[i]\n",
    "  i=i+1\n",
    "}\n",
    "  "
   ]
  },
  {
   "cell_type": "markdown",
   "metadata": {},
   "source": [
    "## Loop unrolling\n",
    " \n",
    "\n",
    "By unrolling the loop we have less jumps and conditional checks. The longer code will take up more registers.\n"
   ]
  },
  {
   "cell_type": "code",
   "execution_count": null,
   "metadata": {},
   "outputs": [],
   "source": [
    "import numpy as np\n",
    "outA=np.zeros(1000000)\n",
    "inA=np.zeros(1000000)\n",
    "for i in range(outA.shape[0],4):\n",
    "    outA[i]=inA[i]*inA[i]   \n",
    "    outA[i+1]=inA[i+1]*inA[i+1]\n",
    "    outA[i+2]=inA[i+2]*inA[i+2]    \n",
    "    outA[i+3]=inA[i+3]*inA[i+3]   "
   ]
  },
  {
   "cell_type": "markdown",
   "metadata": {},
   "source": [
    "By unrolling the loop we have less jumps and conditional checks. The longer code will take up more registers.\n",
    "\n",
    "i=0\n",
    "do{\n",
    "  outA[i]=inA[i]*inA[i]\n",
    "  outA[i+1]=inA[i+1]*inA[i+1]\n",
    "  outA[i+2]=inA[i+2]*inA[i+2]\n",
    "  outA[i+3]=inA[i+3]*inA[i+3]\n",
    "  i=i+4\n",
    "}\n"
   ]
  },
  {
   "cell_type": "markdown",
   "metadata": {},
   "source": [
    "## Loop interchange"
   ]
  },
  {
   "cell_type": "code",
   "execution_count": 19,
   "metadata": {},
   "outputs": [
    {
     "name": "stdout",
     "output_type": "stream",
     "text": [
      "CPU times: user 1.49 s, sys: 25.4 ms, total: 1.52 s\n",
      "Wall time: 1.53 s\n"
     ]
    }
   ],
   "source": [
    "%%time\n",
    "inA=np.zeros((1000,10000))\n",
    "outA=np.zeros((1000,10000))\n",
    "@numba.jit()\n",
    "def badLoop(inA,outA):\n",
    "    for i1 in range(outA.shape[1]):\n",
    "        for i2 in range(outA.shape[0]):\n",
    "            outA[i2,i1]=inA[i2,i1]*inA[i2,i1]\n",
    "\n",
    "for i in range(10):\n",
    "    badLoop(inA,outA)"
   ]
  },
  {
   "cell_type": "code",
   "execution_count": 20,
   "metadata": {},
   "outputs": [
    {
     "name": "stdout",
     "output_type": "stream",
     "text": [
      "CPU times: user 225 ms, sys: 20.9 ms, total: 246 ms\n",
      "Wall time: 247 ms\n"
     ]
    }
   ],
   "source": [
    "%%time\n",
    "import numba\n",
    "inA=np.zeros((1000,10000))\n",
    "outA=np.zeros((1000,10000))\n",
    "@numba.jit()\n",
    "def goodLoop(inA,outA):\n",
    "    for i2 in range(outA.shape[0]):\n",
    "        for i1 in range(outA.shape[1]):\n",
    "            outA[i2,i1]=inA[i2,i1]*inA[i2,i1]\n",
    "\n",
    "for i in range(10):\n",
    "    goodLoop(inA,outA)"
   ]
  },
  {
   "cell_type": "markdown",
   "metadata": {},
   "source": [
    "When we ask for a value from memory, many (a cache line's worth) are transferred. These are successive memory locations. They are transferred to the L1 cache. In the first case by the time we are ready to use the next value in the cache line it has left L1 cache and is now in L2 or L3 cache. There is a significant increased latency in reading from these caches, reducing performance. For simple loops most compilers will recognize that they can interchange the loops at high enough optimization levels but add even a little complexity to the loop and it will follow the code you wrote."
   ]
  },
  {
   "cell_type": "markdown",
   "metadata": {},
   "source": [
    "## Vectorization\n",
    "\n",
    "We've covered vectorization a little in this class so far. The basic idea is that we can do multiple operations simultaneously as long as they are all the same operations. Vectorization works best on 32-bit floats. To enable vectorization in numba change *fastmath* from no to yes in the following function declaration."
   ]
  },
  {
   "cell_type": "code",
   "execution_count": 6,
   "metadata": {},
   "outputs": [
    {
     "name": "stdout",
     "output_type": "stream",
     "text": [
      "CPU times: user 257 ms, sys: 23.6 ms, total: 280 ms\n",
      "Wall time: 294 ms\n"
     ]
    }
   ],
   "source": [
    "%%time\n",
    "import numba\n",
    "inA=np.zeros((1000,10000),np.float32)\n",
    "outA=np.zeros((1000,10000),np.float32)\n",
    "@numba.njit(fastmath=False)\n",
    "def goodLoop(inA,outA):\n",
    "    for i2 in range(outA.shape[0]):\n",
    "        for i1 in range(outA.shape[1]):\n",
    "            outA[i2,i1]=inA[i2,i1]*inA[i2,i1]\n",
    "\n",
    "for i in range(10):\n",
    "    goodLoop(inA,outA)"
   ]
  },
  {
   "cell_type": "markdown",
   "metadata": {},
   "source": [
    "When we move onto compiled languages we will learn about optimized function calls for vectorization operations."
   ]
  },
  {
   "cell_type": "markdown",
   "metadata": {},
   "source": [
    "## Loop unswitching\n",
    "\n",
    "Compare the following two cells. The difference is the order of the for and if statements. The first cell does not allow vectorization and requires an if evaluation at every instance of the loop. You will probably see relatively no difference in timing of these two cells because the jit compiler makes the change it self."
   ]
  },
  {
   "cell_type": "code",
   "execution_count": 42,
   "metadata": {},
   "outputs": [
    {
     "name": "stdout",
     "output_type": "stream",
     "text": [
      "CPU times: user 259 ms, sys: 20.8 ms, total: 280 ms\n",
      "Wall time: 288 ms\n"
     ]
    }
   ],
   "source": [
    "%%time\n",
    "import numba\n",
    "inA=np.zeros((1000*10000),np.float32)\n",
    "outA=np.zeros((1000*10000),np.float32)\n",
    "@numba.njit(fastmath=True)\n",
    "def deriv1(adj,inA,outA):\n",
    "    for i in range(1,outA.shape[0]):\n",
    "        if adj:\n",
    "            inA[i-1]-=outA[i]\n",
    "            inA[i]+=outA[i]\n",
    "        else:\n",
    "            outA[i]+=inA[i]-inA[i-1]\n",
    "for i in range(10):\n",
    "    deriv1(False,inA,outA)\n"
   ]
  },
  {
   "cell_type": "code",
   "execution_count": 43,
   "metadata": {},
   "outputs": [
    {
     "name": "stdout",
     "output_type": "stream",
     "text": [
      "CPU times: user 253 ms, sys: 17.3 ms, total: 270 ms\n",
      "Wall time: 272 ms\n"
     ]
    }
   ],
   "source": [
    "%%time\n",
    "import numba\n",
    "inA=np.zeros((1000*10000),np.float32)\n",
    "outA=np.zeros((1000*10000),np.float32)\n",
    "@numba.njit(fastmath=True)\n",
    "def deriv2(adj,inA,outA):\n",
    "    if adj:\n",
    "        for i in range(1,outA.shape[0]):\n",
    "            inA[i-1]-=outA[i]\n",
    "            inA[i]+=outA[i]\n",
    "    else:\n",
    "        for i in range(1,outA.shape[0]):\n",
    "            outA[i]+=inA[i]-inA[i-1]\n",
    "for i in range(10):\n",
    "    deriv2(False,inA,outA)"
   ]
  },
  {
   "cell_type": "markdown",
   "metadata": {},
   "source": [
    "The following example resulted a 20x difference in performance:\n",
    "\n",
    "\n",
    "Note the if conditional:\n",
    "\n",
    "   do imx=down%ax%b, down%ax%n+down%ax%b-1\n",
    "                jxd = imx - jhx\n",
    "                jxu = imx + jhx\n",
    "                if ( (jxd.lt.1) .or. (jxd.gt.size(wfld_d,1)) .or. &\n",
    "                (jxu.lt.1) .or. (jxu.gt.size(wfld_u,1)) )cycle\n",
    "                   dsliceR(imx-down%ax%b+1, imy-down%ay%b+1, ihx, ihy,ith) =&\n",
    "                   dsliceR(imx-down%ax%b+1, imy-down%ay%b+1, ihx, ihy,ith) +&\n",
    "                    wfld_d(jxd, jyd, iws) * wfld_u(jxu, jyu, iws)\n",
    "            end do\n",
    "\n",
    "\n",
    "\n",
    "\n",
    "20X speedup\n",
    "\n",
    "   do imx=down%ax%b, down%ax%n+down%ax%b-1\n",
    "                dsliceR(imx-down%ax%b+1, imy-down%ay%b+1, ihx, ihy,ith) = &\n",
    "                  & dsliceR(imx-down%ax%b+1, imy-down%ay%b+1, ihx, ihy,ith) + &\n",
    "                  & wfld_d(jjxd, jjyd, iws) * wfld_u(jjxu, jjyu, iws)\n",
    "            end do\n",
    "         "
   ]
  },
  {
   "cell_type": "markdown",
   "metadata": {},
   "source": [
    "## Loop nest optimization\n"
   ]
  },
  {
   "cell_type": "code",
   "execution_count": 49,
   "metadata": {},
   "outputs": [
    {
     "name": "stdout",
     "output_type": "stream",
     "text": [
      "CPU times: user 10 s, sys: 181 ms, total: 10.2 s\n",
      "Wall time: 10.4 s\n"
     ]
    }
   ],
   "source": [
    "%%time\n",
    "in1A=np.zeros((1000,1000),np.float32)\n",
    "in2A=np.zeros((1000,1000),np.float32)\n",
    "outA=np.zeros((1000,1000),np.float32)\n",
    "@numba.jit()\n",
    "def normalLoop(in1,in2,outA):\n",
    "    for i3 in range(outA.shape[0]):\n",
    "        for i2 in range(outA.shape[1]):\n",
    "            outA[i3,i2]=0\n",
    "            for i1 in range(in1A.shape[1]):\n",
    "                outA[i3,i2]+=in2A[i3,i1]*in1A[i1,i2]\n",
    "for i in range(5):\n",
    "    normalLoop(in1A,in2A,outA)"
   ]
  },
  {
   "cell_type": "code",
   "execution_count": 50,
   "metadata": {},
   "outputs": [
    {
     "name": "stdout",
     "output_type": "stream",
     "text": [
      "CPU times: user 8.33 s, sys: 127 ms, total: 8.45 s\n",
      "Wall time: 8.57 s\n"
     ]
    }
   ],
   "source": [
    "%%time\n",
    "in1A=np.zeros((1000,1000),np.float32)\n",
    "in2A=np.zeros((1000,1000),np.float32)\n",
    "outA=np.zeros((1000,1000),np.float32)\n",
    "@numba.jit()\n",
    "def toMuchWork(in1,in2,outA):\n",
    "    for i3 in range(0,outA.shape[0],2):\n",
    "        for i2 in range(0,outA.shape[1],2):\n",
    "            for i1 in range(in1A.shape[1]):\n",
    "                a00=in2A[i3,i1]*in1A[i1,i2]\n",
    "                a01=in2A[i3,i1]*in1A[i1,i2+1]\n",
    "                a10=in2A[i3+1,i1]*in1A[i1,i2]\n",
    "                a11=in2A[i3+1,i1]*in1A[i2,i2+1]\n",
    "                outA[i3,i2]=a00\n",
    "                outA[i3+1,i2]=a10\n",
    "                outA[i3,i2+1]=a01\n",
    "                outA[i3+1,i2+1]=a11\n",
    "for i in range(5):\n",
    "    toMuchWork(in1A,in2A,outA)"
   ]
  },
  {
   "cell_type": "markdown",
   "metadata": {},
   "source": [
    "You might see an improvement in the second example with numba. With a compiled language you will almost always see the second example slower because of higher level of optimizations that the second example disables. "
   ]
  },
  {
   "cell_type": "markdown",
   "metadata": {},
   "source": [
    "## Loop invariant code motion"
   ]
  },
  {
   "cell_type": "code",
   "execution_count": 2,
   "metadata": {},
   "outputs": [
    {
     "name": "stdout",
     "output_type": "stream",
     "text": [
      "CPU times: user 2.42 s, sys: 41.2 ms, total: 2.46 s\n",
      "Wall time: 2.49 s\n"
     ]
    }
   ],
   "source": [
    "%%time\n",
    "import numpy as np\n",
    "import numba\n",
    "\n",
    "in1A=np.random.rand(1000*100)\n",
    "\n",
    "@numba.jit()\n",
    "def realyDumbLoop(in1A):\n",
    "    i=0\n",
    "    tot=0\n",
    "    while tot < in1A.sum()/5:\n",
    "        tot+=in1A[i]\n",
    "        i=i+1\n",
    "\n",
    "realyDumbLoop(in1A)"
   ]
  },
  {
   "cell_type": "code",
   "execution_count": 4,
   "metadata": {},
   "outputs": [
    {
     "name": "stdout",
     "output_type": "stream",
     "text": [
      "CPU times: user 96.1 ms, sys: 5.13 ms, total: 101 ms\n",
      "Wall time: 106 ms\n"
     ]
    }
   ],
   "source": [
    "%%time\n",
    "import numpy as np\n",
    "import numba\n",
    "\n",
    "in1A=np.random.rand(1000*100)\n",
    "\n",
    "@numba.jit()\n",
    "def notSoDumb(in1A):\n",
    "    i=0\n",
    "    tot=0\n",
    "    mx=in1A.sum()/5\n",
    "    while tot < mx:\n",
    "        tot+=in1A[i]\n",
    "        i=i+1\n",
    "\n",
    "notSoDumb(in1A)"
   ]
  },
  {
   "cell_type": "markdown",
   "metadata": {},
   "source": [
    "Pre-computing variables that are unchanging in a loop."
   ]
  },
  {
   "cell_type": "markdown",
   "metadata": {},
   "source": [
    "## Functional inlining"
   ]
  },
  {
   "cell_type": "code",
   "execution_count": 9,
   "metadata": {},
   "outputs": [
    {
     "name": "stdout",
     "output_type": "stream",
     "text": [
      "CPU times: user 4.18 s, sys: 59.9 ms, total: 4.24 s\n",
      "Wall time: 4.31 s\n"
     ]
    }
   ],
   "source": [
    "%%time \n",
    "@numba.jit()\n",
    "def mypow(var):\n",
    "    return var*var\n",
    "\n",
    "def seemsSmartOO(inA,outA):\n",
    "    for i in range(inA.shape[0]):\n",
    "        outA[i]=mypow(inA[i])\n",
    "        \n",
    "\n",
    "in1A=np.random.rand(1000*1000)\n",
    "outA=np.zeros(1000*1000)\n",
    "for i in range(10):\n",
    "    seemsSmartOO(in1A,outA)"
   ]
  },
  {
   "cell_type": "code",
   "execution_count": 11,
   "metadata": {},
   "outputs": [
    {
     "name": "stdout",
     "output_type": "stream",
     "text": [
      "CPU times: user 135 ms, sys: 11.2 ms, total: 146 ms\n",
      "Wall time: 154 ms\n"
     ]
    }
   ],
   "source": [
    "%%time \n",
    "@numba.jit()\n",
    "\n",
    "def muchFaster(inA,outA):\n",
    "    for i in range(inA.shape[0]):\n",
    "        outA[i]=inA[i]*inA[i]\n",
    "        \n",
    "\n",
    "in1A=np.random.rand(1000*1000)\n",
    "outA=np.zeros(1000*1000)\n",
    "for i in range(10):\n",
    "    muchFaster(in1A,outA)"
   ]
  },
  {
   "cell_type": "markdown",
   "metadata": {},
   "source": [
    "## Machine-specific optimization\n",
    "Many choices the compiler make can be improved by knowing about the target CPU\n",
    "- number of registers\n",
    "- number of floating point units\n",
    "- cache\n",
    "\n",
    "For highly optimized, but non-portable code, turn on these machine-specific optimizations. The speed difference is often a factor of 2 better."
   ]
  },
  {
   "cell_type": "markdown",
   "metadata": {},
   "source": [
    "## Relative importance\n",
    "\n",
    "To important to trust to the compiler\n",
    "- Loop interchange\n",
    "- Loop unswitching\n",
    "- Loop invariance code motion\n",
    "- Inlining\n",
    "\n",
    "Worth it in many cases\n",
    "- vectorization\n",
    "\n",
    "Not worth your doing, trust the compiler, but make its job doable\n",
    "- Loop unrolling\n",
    "- Loop nest optimizations\n",
    "- Machine specific optimizations"
   ]
  },
  {
   "cell_type": "code",
   "execution_count": null,
   "metadata": {},
   "outputs": [],
   "source": []
  }
 ],
 "metadata": {
  "kernelspec": {
   "display_name": "Python 3",
   "language": "python",
   "name": "python3"
  },
  "language_info": {
   "codemirror_mode": {
    "name": "ipython",
    "version": 3
   },
   "file_extension": ".py",
   "mimetype": "text/x-python",
   "name": "python",
   "nbconvert_exporter": "python",
   "pygments_lexer": "ipython3",
   "version": "3.7.4"
  },
  "latex_envs": {
   "LaTeX_envs_menu_present": true,
   "autoclose": false,
   "autocomplete": true,
   "bibliofile": "biblio.bib",
   "cite_by": "apalike",
   "current_citInitial": 1,
   "eqLabelWithNumbers": true,
   "eqNumInitial": 1,
   "hotkeys": {
    "equation": "Ctrl-E",
    "itemize": "Ctrl-I"
   },
   "labels_anchors": false,
   "latex_user_defs": false,
   "report_style_numbering": false,
   "user_envs_cfg": false
  },
  "toc": {
   "base_numbering": 1,
   "nav_menu": {},
   "number_sections": true,
   "sideBar": true,
   "skip_h1_title": false,
   "title_cell": "Table of Contents",
   "title_sidebar": "Contents",
   "toc_cell": false,
   "toc_position": {},
   "toc_section_display": true,
   "toc_window_display": false
  }
 },
 "nbformat": 4,
 "nbformat_minor": 2
}
