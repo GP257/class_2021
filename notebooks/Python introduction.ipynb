{
 "cells": [
  {
   "cell_type": "markdown",
   "metadata": {},
   "source": [
    "# Background\n",
    "\n",
    "\n",
    "## Scriting languages\n",
    "“are computer programing languages that are typically interpreted and can be typed directly from the keyboard. Thus scripts are often distinguished from programs, because programs are converted permanently into binary executable files (i.e., zeros and ones) before they are run.”\n",
    "Wikipedia\n"
   ]
  },
  {
   "cell_type": "markdown",
   "metadata": {},
   "source": [
    "## Scripting languages i've used\n",
    "bash, csh, ksh, zsh, tcsh,sh, ARexx, AppleScript,cmd.exe, COMMAND.COM, Automator, ActionScript, Emacs Lisp, VBScript, PHP, JavaScript, VBScript, AWK,Perl,sed, Lisp, Ruby, Scheme, Tcl\n",
    "\n",
    "1/6 of what is availabe"
   ]
  },
  {
   "cell_type": "markdown",
   "metadata": {},
   "source": [
    "## Advantages of scripting languages\n",
    " - Less overhead to do simple tasks\n",
    " - Some things are easier to do in a scripting language than a compiled code\n",
    " - You can provide additional functionality to an existing code"
   ]
  },
  {
   "cell_type": "markdown",
   "metadata": {},
   "source": [
    "## Things i've used python for (as of 2015)\n",
    "- Converting between different formats\n",
    "- Removing, moving, copying complex file structures\n",
    "- Distributing labs to students\n",
    "- Interacting with batch file systems\n",
    "- Out-of-core optimization\n",
    "- Simplified parallel programming\n",
    "- Wrapping a series of complex programs into a single, simpler interface"
   ]
  },
  {
   "cell_type": "markdown",
   "metadata": {},
   "source": [
    "## What i've used python for (now)\n",
    "- Writing meaningful computationally intensive programs using numba\n",
    "- Wrapping C++ and cuda to provide an easier interface\n",
    "- Reproducibility"
   ]
  },
  {
   "cell_type": "markdown",
   "metadata": {},
   "source": [
    "## Why python\n",
    "- Unlike perl, usually one way to do things\n",
    "- Easier to understand someone elses code\n",
    "- Matlab is not public domain\n",
    "- Has a strong numerics community (some of the features of matlab)\n",
    "- Help functionality\n",
    "- Object oriented"
   ]
  },
  {
   "cell_type": "markdown",
   "metadata": {},
   "source": [
    "# Basic types"
   ]
  },
  {
   "cell_type": "code",
   "execution_count": 73,
   "metadata": {},
   "outputs": [
    {
     "name": "stdout",
     "output_type": "stream",
     "text": [
      "Hello world\n"
     ]
    }
   ],
   "source": [
    "print(\"Hello world\")"
   ]
  },
  {
   "cell_type": "markdown",
   "metadata": {},
   "source": [
    "## Strings"
   ]
  },
  {
   "cell_type": "code",
   "execution_count": 74,
   "metadata": {},
   "outputs": [
    {
     "name": "stdout",
     "output_type": "stream",
     "text": [
      "oneTWO =c d= oneoneoneone\n"
     ]
    }
   ],
   "source": [
    "#Strings\n",
    "a='one'\n",
    "b=\"TWO\"\n",
    "c =a+b\n",
    "d = a*4\n",
    "print(c,\"=c d=\",d)"
   ]
  },
  {
   "cell_type": "markdown",
   "metadata": {},
   "source": [
    "## Integers"
   ]
  },
  {
   "cell_type": "code",
   "execution_count": 75,
   "metadata": {},
   "outputs": [
    {
     "name": "stdout",
     "output_type": "stream",
     "text": [
      "0 =c d= 15\n"
     ]
    }
   ],
   "source": [
    "a=3\n",
    "b=5\n",
    "c=int(a/b)\n",
    "d=a*b\n",
    "print(c,\"=c d=\",d)"
   ]
  },
  {
   "cell_type": "markdown",
   "metadata": {},
   "source": [
    "## Floats"
   ]
  },
  {
   "cell_type": "code",
   "execution_count": 76,
   "metadata": {},
   "outputs": [
    {
     "name": "stdout",
     "output_type": "stream",
     "text": [
      "3 0.6\n"
     ]
    }
   ],
   "source": [
    "fl=a\n",
    "c=a/b\n",
    "print(fl,c)"
   ]
  },
  {
   "cell_type": "markdown",
   "metadata": {},
   "source": [
    "## Lists"
   ]
  },
  {
   "cell_type": "code",
   "execution_count": 77,
   "metadata": {},
   "outputs": [
    {
     "name": "stdout",
     "output_type": "stream",
     "text": [
      "[2, 244, 'ss', 7] create lists [2, 2, 2, 2]\n",
      "2 =first last= 7\n",
      "[2, 'ss'] every second element\n",
      "[244, 'ss'] subrange\n",
      "[2, 2, 5, 2] =b c= [2, 2, 5, 2]\n"
     ]
    }
   ],
   "source": [
    "a=[2,3,\"ss\",7]\n",
    "b=[2]*4\n",
    "\n",
    "\n",
    "a[1]=244\n",
    "print(a,\"create lists\", b)\n",
    "\n",
    "print(a[0],\"=first last=\",a[-1])\n",
    "\n",
    "print(a[::2],\"every second element\")\n",
    "\n",
    "print(a[1:3],'subrange')\n",
    "\n",
    "c=b #copy a list \n",
    "c[2]=5\n",
    "print(b,\"=b c=\",c) #We are not actually copying the elements of the array"
   ]
  },
  {
   "cell_type": "markdown",
   "metadata": {},
   "source": [
    "## Dictionaries"
   ]
  },
  {
   "cell_type": "code",
   "execution_count": 78,
   "metadata": {},
   "outputs": [
    {
     "name": "stdout",
     "output_type": "stream",
     "text": [
      "Washington =George\n",
      "{'John': 'Adams', 'George': 'Washington', 'Thomas': 'Jefferson', 'Abraham': 'Lincoln'}\n"
     ]
    }
   ],
   "source": [
    "dct={\"John\":\"Adams\", \"George\":\"Washington\",\"Thomas\":\"Jefferson\"}\n",
    "print(dct[\"George\"],\"=George\")\n",
    "dct[\"Abraham\"]=\"Lincoln\"\n",
    "print(dct)"
   ]
  },
  {
   "cell_type": "markdown",
   "metadata": {},
   "source": [
    "## Tuples"
   ]
  },
  {
   "cell_type": "code",
   "execution_count": 79,
   "metadata": {},
   "outputs": [
    {
     "name": "stdout",
     "output_type": "stream",
     "text": [
      "2\n"
     ]
    },
    {
     "ename": "TypeError",
     "evalue": "'tuple' object does not support item assignment",
     "output_type": "error",
     "traceback": [
      "\u001b[0;31m---------------------------------------------------------------------------\u001b[0m",
      "\u001b[0;31mTypeError\u001b[0m                                 Traceback (most recent call last)",
      "\u001b[0;32m<ipython-input-79-254dc74f068e>\u001b[0m in \u001b[0;36m<module>\u001b[0;34m\u001b[0m\n\u001b[1;32m      1\u001b[0m \u001b[0ma\u001b[0m\u001b[0;34m=\u001b[0m\u001b[0;34m(\u001b[0m\u001b[0;36m2\u001b[0m\u001b[0;34m,\u001b[0m\u001b[0;36m3\u001b[0m\u001b[0;34m,\u001b[0m\u001b[0;36m4\u001b[0m\u001b[0;34m)\u001b[0m\u001b[0;34m\u001b[0m\u001b[0;34m\u001b[0m\u001b[0m\n\u001b[1;32m      2\u001b[0m \u001b[0mprint\u001b[0m\u001b[0;34m(\u001b[0m\u001b[0ma\u001b[0m\u001b[0;34m[\u001b[0m\u001b[0;36m0\u001b[0m\u001b[0;34m]\u001b[0m\u001b[0;34m)\u001b[0m\u001b[0;34m\u001b[0m\u001b[0;34m\u001b[0m\u001b[0m\n\u001b[0;32m----> 3\u001b[0;31m \u001b[0ma\u001b[0m\u001b[0;34m[\u001b[0m\u001b[0;36m2\u001b[0m\u001b[0;34m]\u001b[0m\u001b[0;34m=\u001b[0m\u001b[0;34m\"5\"\u001b[0m \u001b[0;31m#Tuples can not be changed\u001b[0m\u001b[0;34m\u001b[0m\u001b[0;34m\u001b[0m\u001b[0m\n\u001b[0m",
      "\u001b[0;31mTypeError\u001b[0m: 'tuple' object does not support item assignment"
     ]
    }
   ],
   "source": [
    "a=(2,3,4)\n",
    "print(a[0])\n",
    "a[2]=\"5\" #Tuples can not be changed"
   ]
  },
  {
   "cell_type": "markdown",
   "metadata": {},
   "source": [
    "# Functions\n",
    "\n",
    "## Basic functions"
   ]
  },
  {
   "cell_type": "code",
   "execution_count": 80,
   "metadata": {},
   "outputs": [
    {
     "name": "stdout",
     "output_type": "stream",
     "text": [
      "4 =square of num\n"
     ]
    }
   ],
   "source": [
    "def calcSq(num): #Functions are specified by def, arguments are inside brackets\n",
    "    b=num*num #We indent inside a function\n",
    "    return b #Return the value\n",
    "\n",
    "print(calcSq(2),\"=square of num\")"
   ]
  },
  {
   "cell_type": "code",
   "execution_count": 81,
   "metadata": {},
   "outputs": [
    {
     "name": "stdout",
     "output_type": "stream",
     "text": [
      "<class 'tuple'> multiple return is a tuple (1, 3.0, 9.0, 27.0)\n"
     ]
    }
   ],
   "source": [
    "def calcPow3(num):\n",
    "    return 1,num,num*num,num*num*num\n",
    "\n",
    "m=calcPow3(3.)\n",
    "print(type(m),\"multiple return is a tuple\",m)"
   ]
  },
  {
   "cell_type": "markdown",
   "metadata": {},
   "source": [
    "## Useful built in functions\n",
    " - str(obj)\tReturn the string representation of obj\n",
    " - list(seq)\tReturn the list representation of a sequence object\n",
    " - len(seq    Return the number of elements in a sequence\n",
    " - tuple(seq)\tReturn the tuple representation of a sequence object\n",
    " - int(obj)\tReturn the integer representation of an object\n",
    " - float(x)\tReturn the floating point representation of an object\n",
    " - chr(i)\tReturn the character with ASCII code i\n",
    " - ord(c)\tReturn the ASCII code of character c\n",
    " - min(seq)\tReturn the smallest element of a sequence\n",
    " - max(seq)"
   ]
  },
  {
   "cell_type": "markdown",
   "metadata": {},
   "source": [
    "# Flow control\n"
   ]
  },
  {
   "cell_type": "code",
   "execution_count": 82,
   "metadata": {},
   "outputs": [
    {
     "name": "stdout",
     "output_type": "stream",
     "text": [
      "alpha\n",
      "beta\n",
      "gamma\n",
      "0\n",
      "1\n",
      "2\n",
      "3\n",
      "4\n",
      "5\n",
      "6\n",
      "7\n",
      "8\n",
      "9\n"
     ]
    }
   ],
   "source": [
    "a=[\"alpha\",\"beta\",\"gamma\"]\n",
    "for i in a:  #we can loop through a list\n",
    "    print(i) #i is assinged succesive value of a\n",
    "    \n",
    "for i in range(10): #the range function returns the numbers zero, function argument -1\n",
    "    print(i)"
   ]
  },
  {
   "cell_type": "code",
   "execution_count": 83,
   "metadata": {},
   "outputs": [
    {
     "name": "stdout",
     "output_type": "stream",
     "text": [
      "I am even  0\n",
      "I am odd   1\n",
      "I am even  2\n",
      "I am odd   3\n",
      "I am even  4\n",
      "I am odd   5\n",
      "I am even  6\n",
      "I am odd   7\n",
      "I am even  8\n",
      "I am odd   9\n"
     ]
    }
   ],
   "source": [
    "for i in range(10):\n",
    "    j=int(i/2)*2-i  #notice the indenting\n",
    "    #if conditional\n",
    "    if j ==0:  \n",
    "        print(\"I am even \",i)  \n",
    "    else:\n",
    "        print(\"I am odd  \",i)"
   ]
  },
  {
   "cell_type": "code",
   "execution_count": 84,
   "metadata": {},
   "outputs": [
    {
     "name": "stdout",
     "output_type": "stream",
     "text": [
      "12\n"
     ]
    }
   ],
   "source": [
    "i=0\n",
    "while i < 11:\n",
    "    i=i+2\n",
    "print(i)\n"
   ]
  },
  {
   "cell_type": "markdown",
   "metadata": {},
   "source": [
    "# A more advanced function\n",
    "\n"
   ]
  },
  {
   "cell_type": "code",
   "execution_count": 88,
   "metadata": {},
   "outputs": [
    {
     "name": "stdout",
     "output_type": "stream",
     "text": [
      "0 9  min and max of argument  0\n",
      "2 11  min and max of argument  1\n"
     ]
    }
   ],
   "source": [
    "def calcStats(*arg):  #arg represent the list of all the arguments passed to the function not of the form a=b\n",
    "  i=0\n",
    "  if len(arg) >2:\n",
    "        raise Exception(\"To large of a list\")\n",
    "  for a in arg:\n",
    "      print(min(a),max(a), \" min and max of argument \",i)\n",
    "      i=i+1\n",
    "a=range(10)\n",
    "b=range(2,12) #range takes additional arguments (min,max) or (min,max,step)\n",
    "calcStats(a,b)"
   ]
  },
  {
   "cell_type": "markdown",
   "metadata": {},
   "source": [
    "# Python OO V1\n"
   ]
  },
  {
   "cell_type": "code",
   "execution_count": 86,
   "metadata": {},
   "outputs": [
    {
     "name": "stdout",
     "output_type": "stream",
     "text": [
      "Stanford is a good school\n",
      "Cal is a bad school\n"
     ]
    }
   ],
   "source": [
    "class university:  #we specify the class type\n",
    "    \"\"\"A class that accurately describes universities\"\"\"\n",
    "    \n",
    "    def __init__(self,name,location,quality): # we specify how to initialize the object\n",
    "        \"\"\"Initialization\n",
    "        \n",
    "            name  - Name of the school\n",
    "            location- Location of the school\n",
    "            quality - How good the school is\n",
    "        \n",
    "        \"\"\"\n",
    "        self._name=name  #We specify variables that exist in the class using self.\n",
    "        self._location=location\n",
    "        self._quality=quality\n",
    "    \n",
    "    def amIGood(self): #anytime we want to access members of the class we need to declare the argument self\n",
    "        \"\"\"Print an accurate assessment of a University\"\"\"\n",
    "        if self._quality < 2:\n",
    "            des=\"bad\"\n",
    "        elif self._quality < 7:\n",
    "            des=\"okay\"\n",
    "        else:\n",
    "            des=\"good\"\n",
    "        print(\"%s is a %s school\"%(self._name,des)) #note how I can use %s to say where to put string values\n",
    "\n",
    "stanford=university(\"Stanford\",\"Palo Alto\",8) #I can create an instance of my class\n",
    "cal=university(\"Cal\",\"Berkeley\",1)  #Note how I don't include the self argument\n",
    "\n",
    "stanford.amIGood() #I cal the function using .\n",
    "cal.amIGood()\n",
    "    "
   ]
  },
  {
   "cell_type": "code",
   "execution_count": 90,
   "metadata": {},
   "outputs": [
    {
     "name": "stdout",
     "output_type": "stream",
     "text": [
      "[2, 3, 4, 5, 6]\n"
     ]
    }
   ],
   "source": [
    "import copy\n",
    "a=[2,3,4,5,6]\n",
    "b=copy.deepcopy(a)\n",
    "b[3]=0\n",
    "print(a)"
   ]
  },
  {
   "cell_type": "markdown",
   "metadata": {},
   "source": [
    "Python allows for easy documentation."
   ]
  },
  {
   "cell_type": "code",
   "execution_count": 87,
   "metadata": {},
   "outputs": [
    {
     "name": "stdout",
     "output_type": "stream",
     "text": [
      "Help on class university in module __main__:\n",
      "\n",
      "class university(builtins.object)\n",
      " |  university(name, location, quality)\n",
      " |  \n",
      " |  A class that accurately describes universities\n",
      " |  \n",
      " |  Methods defined here:\n",
      " |  \n",
      " |  __init__(self, name, location, quality)\n",
      " |      Initialization\n",
      " |      \n",
      " |      name  - Name of the school\n",
      " |      location- Location of the school\n",
      " |      quality - How good the school is\n",
      " |  \n",
      " |  amIGood(self)\n",
      " |      Print an accurate assessment of a University\n",
      " |  \n",
      " |  ----------------------------------------------------------------------\n",
      " |  Data descriptors defined here:\n",
      " |  \n",
      " |  __dict__\n",
      " |      dictionary for instance variables (if defined)\n",
      " |  \n",
      " |  __weakref__\n",
      " |      list of weak references to the object (if defined)\n",
      "\n"
     ]
    }
   ],
   "source": [
    "help(university)"
   ]
  },
  {
   "cell_type": "code",
   "execution_count": 88,
   "metadata": {},
   "outputs": [
    {
     "name": "stdout",
     "output_type": "stream",
     "text": [
      "Help on class str in module builtins:\n",
      "\n",
      "class str(object)\n",
      " |  str(object='') -> str\n",
      " |  str(bytes_or_buffer[, encoding[, errors]]) -> str\n",
      " |  \n",
      " |  Create a new string object from the given object. If encoding or\n",
      " |  errors is specified, then the object must expose a data buffer\n",
      " |  that will be decoded using the given encoding and error handler.\n",
      " |  Otherwise, returns the result of object.__str__() (if defined)\n",
      " |  or repr(object).\n",
      " |  encoding defaults to sys.getdefaultencoding().\n",
      " |  errors defaults to 'strict'.\n",
      " |  \n",
      " |  Methods defined here:\n",
      " |  \n",
      " |  __add__(self, value, /)\n",
      " |      Return self+value.\n",
      " |  \n",
      " |  __contains__(self, key, /)\n",
      " |      Return key in self.\n",
      " |  \n",
      " |  __eq__(self, value, /)\n",
      " |      Return self==value.\n",
      " |  \n",
      " |  __format__(self, format_spec, /)\n",
      " |      Return a formatted version of the string as described by format_spec.\n",
      " |  \n",
      " |  __ge__(self, value, /)\n",
      " |      Return self>=value.\n",
      " |  \n",
      " |  __getattribute__(self, name, /)\n",
      " |      Return getattr(self, name).\n",
      " |  \n",
      " |  __getitem__(self, key, /)\n",
      " |      Return self[key].\n",
      " |  \n",
      " |  __getnewargs__(...)\n",
      " |  \n",
      " |  __gt__(self, value, /)\n",
      " |      Return self>value.\n",
      " |  \n",
      " |  __hash__(self, /)\n",
      " |      Return hash(self).\n",
      " |  \n",
      " |  __iter__(self, /)\n",
      " |      Implement iter(self).\n",
      " |  \n",
      " |  __le__(self, value, /)\n",
      " |      Return self<=value.\n",
      " |  \n",
      " |  __len__(self, /)\n",
      " |      Return len(self).\n",
      " |  \n",
      " |  __lt__(self, value, /)\n",
      " |      Return self<value.\n",
      " |  \n",
      " |  __mod__(self, value, /)\n",
      " |      Return self%value.\n",
      " |  \n",
      " |  __mul__(self, value, /)\n",
      " |      Return self*value.\n",
      " |  \n",
      " |  __ne__(self, value, /)\n",
      " |      Return self!=value.\n",
      " |  \n",
      " |  __repr__(self, /)\n",
      " |      Return repr(self).\n",
      " |  \n",
      " |  __rmod__(self, value, /)\n",
      " |      Return value%self.\n",
      " |  \n",
      " |  __rmul__(self, value, /)\n",
      " |      Return value*self.\n",
      " |  \n",
      " |  __sizeof__(self, /)\n",
      " |      Return the size of the string in memory, in bytes.\n",
      " |  \n",
      " |  __str__(self, /)\n",
      " |      Return str(self).\n",
      " |  \n",
      " |  capitalize(self, /)\n",
      " |      Return a capitalized version of the string.\n",
      " |      \n",
      " |      More specifically, make the first character have upper case and the rest lower\n",
      " |      case.\n",
      " |  \n",
      " |  casefold(self, /)\n",
      " |      Return a version of the string suitable for caseless comparisons.\n",
      " |  \n",
      " |  center(self, width, fillchar=' ', /)\n",
      " |      Return a centered string of length width.\n",
      " |      \n",
      " |      Padding is done using the specified fill character (default is a space).\n",
      " |  \n",
      " |  count(...)\n",
      " |      S.count(sub[, start[, end]]) -> int\n",
      " |      \n",
      " |      Return the number of non-overlapping occurrences of substring sub in\n",
      " |      string S[start:end].  Optional arguments start and end are\n",
      " |      interpreted as in slice notation.\n",
      " |  \n",
      " |  encode(self, /, encoding='utf-8', errors='strict')\n",
      " |      Encode the string using the codec registered for encoding.\n",
      " |      \n",
      " |      encoding\n",
      " |        The encoding in which to encode the string.\n",
      " |      errors\n",
      " |        The error handling scheme to use for encoding errors.\n",
      " |        The default is 'strict' meaning that encoding errors raise a\n",
      " |        UnicodeEncodeError.  Other possible values are 'ignore', 'replace' and\n",
      " |        'xmlcharrefreplace' as well as any other name registered with\n",
      " |        codecs.register_error that can handle UnicodeEncodeErrors.\n",
      " |  \n",
      " |  endswith(...)\n",
      " |      S.endswith(suffix[, start[, end]]) -> bool\n",
      " |      \n",
      " |      Return True if S ends with the specified suffix, False otherwise.\n",
      " |      With optional start, test S beginning at that position.\n",
      " |      With optional end, stop comparing S at that position.\n",
      " |      suffix can also be a tuple of strings to try.\n",
      " |  \n",
      " |  expandtabs(self, /, tabsize=8)\n",
      " |      Return a copy where all tab characters are expanded using spaces.\n",
      " |      \n",
      " |      If tabsize is not given, a tab size of 8 characters is assumed.\n",
      " |  \n",
      " |  find(...)\n",
      " |      S.find(sub[, start[, end]]) -> int\n",
      " |      \n",
      " |      Return the lowest index in S where substring sub is found,\n",
      " |      such that sub is contained within S[start:end].  Optional\n",
      " |      arguments start and end are interpreted as in slice notation.\n",
      " |      \n",
      " |      Return -1 on failure.\n",
      " |  \n",
      " |  format(...)\n",
      " |      S.format(*args, **kwargs) -> str\n",
      " |      \n",
      " |      Return a formatted version of S, using substitutions from args and kwargs.\n",
      " |      The substitutions are identified by braces ('{' and '}').\n",
      " |  \n",
      " |  format_map(...)\n",
      " |      S.format_map(mapping) -> str\n",
      " |      \n",
      " |      Return a formatted version of S, using substitutions from mapping.\n",
      " |      The substitutions are identified by braces ('{' and '}').\n",
      " |  \n",
      " |  index(...)\n",
      " |      S.index(sub[, start[, end]]) -> int\n",
      " |      \n",
      " |      Return the lowest index in S where substring sub is found, \n",
      " |      such that sub is contained within S[start:end].  Optional\n",
      " |      arguments start and end are interpreted as in slice notation.\n",
      " |      \n",
      " |      Raises ValueError when the substring is not found.\n",
      " |  \n",
      " |  isalnum(self, /)\n",
      " |      Return True if the string is an alpha-numeric string, False otherwise.\n",
      " |      \n",
      " |      A string is alpha-numeric if all characters in the string are alpha-numeric and\n",
      " |      there is at least one character in the string.\n",
      " |  \n",
      " |  isalpha(self, /)\n",
      " |      Return True if the string is an alphabetic string, False otherwise.\n",
      " |      \n",
      " |      A string is alphabetic if all characters in the string are alphabetic and there\n",
      " |      is at least one character in the string.\n",
      " |  \n",
      " |  isascii(self, /)\n",
      " |      Return True if all characters in the string are ASCII, False otherwise.\n",
      " |      \n",
      " |      ASCII characters have code points in the range U+0000-U+007F.\n",
      " |      Empty string is ASCII too.\n",
      " |  \n",
      " |  isdecimal(self, /)\n",
      " |      Return True if the string is a decimal string, False otherwise.\n",
      " |      \n",
      " |      A string is a decimal string if all characters in the string are decimal and\n",
      " |      there is at least one character in the string.\n",
      " |  \n",
      " |  isdigit(self, /)\n",
      " |      Return True if the string is a digit string, False otherwise.\n",
      " |      \n",
      " |      A string is a digit string if all characters in the string are digits and there\n",
      " |      is at least one character in the string.\n",
      " |  \n",
      " |  isidentifier(self, /)\n",
      " |      Return True if the string is a valid Python identifier, False otherwise.\n",
      " |      \n",
      " |      Use keyword.iskeyword() to test for reserved identifiers such as \"def\" and\n",
      " |      \"class\".\n",
      " |  \n",
      " |  islower(self, /)\n",
      " |      Return True if the string is a lowercase string, False otherwise.\n",
      " |      \n",
      " |      A string is lowercase if all cased characters in the string are lowercase and\n",
      " |      there is at least one cased character in the string.\n",
      " |  \n",
      " |  isnumeric(self, /)\n",
      " |      Return True if the string is a numeric string, False otherwise.\n",
      " |      \n",
      " |      A string is numeric if all characters in the string are numeric and there is at\n",
      " |      least one character in the string.\n",
      " |  \n",
      " |  isprintable(self, /)\n",
      " |      Return True if the string is printable, False otherwise.\n",
      " |      \n",
      " |      A string is printable if all of its characters are considered printable in\n",
      " |      repr() or if it is empty.\n",
      " |  \n",
      " |  isspace(self, /)\n",
      " |      Return True if the string is a whitespace string, False otherwise.\n",
      " |      \n",
      " |      A string is whitespace if all characters in the string are whitespace and there\n",
      " |      is at least one character in the string.\n",
      " |  \n",
      " |  istitle(self, /)\n",
      " |      Return True if the string is a title-cased string, False otherwise.\n",
      " |      \n",
      " |      In a title-cased string, upper- and title-case characters may only\n",
      " |      follow uncased characters and lowercase characters only cased ones.\n",
      " |  \n",
      " |  isupper(self, /)\n",
      " |      Return True if the string is an uppercase string, False otherwise.\n",
      " |      \n",
      " |      A string is uppercase if all cased characters in the string are uppercase and\n",
      " |      there is at least one cased character in the string.\n",
      " |  \n",
      " |  join(self, iterable, /)\n",
      " |      Concatenate any number of strings.\n",
      " |      \n",
      " |      The string whose method is called is inserted in between each given string.\n",
      " |      The result is returned as a new string.\n",
      " |      \n",
      " |      Example: '.'.join(['ab', 'pq', 'rs']) -> 'ab.pq.rs'\n",
      " |  \n",
      " |  ljust(self, width, fillchar=' ', /)\n",
      " |      Return a left-justified string of length width.\n",
      " |      \n",
      " |      Padding is done using the specified fill character (default is a space).\n",
      " |  \n",
      " |  lower(self, /)\n",
      " |      Return a copy of the string converted to lowercase.\n",
      " |  \n",
      " |  lstrip(self, chars=None, /)\n",
      " |      Return a copy of the string with leading whitespace removed.\n",
      " |      \n",
      " |      If chars is given and not None, remove characters in chars instead.\n",
      " |  \n",
      " |  partition(self, sep, /)\n",
      " |      Partition the string into three parts using the given separator.\n",
      " |      \n",
      " |      This will search for the separator in the string.  If the separator is found,\n",
      " |      returns a 3-tuple containing the part before the separator, the separator\n",
      " |      itself, and the part after it.\n",
      " |      \n",
      " |      If the separator is not found, returns a 3-tuple containing the original string\n",
      " |      and two empty strings.\n",
      " |  \n",
      " |  replace(self, old, new, count=-1, /)\n",
      " |      Return a copy with all occurrences of substring old replaced by new.\n",
      " |      \n",
      " |        count\n",
      " |          Maximum number of occurrences to replace.\n",
      " |          -1 (the default value) means replace all occurrences.\n",
      " |      \n",
      " |      If the optional argument count is given, only the first count occurrences are\n",
      " |      replaced.\n",
      " |  \n",
      " |  rfind(...)\n",
      " |      S.rfind(sub[, start[, end]]) -> int\n",
      " |      \n",
      " |      Return the highest index in S where substring sub is found,\n",
      " |      such that sub is contained within S[start:end].  Optional\n",
      " |      arguments start and end are interpreted as in slice notation.\n",
      " |      \n",
      " |      Return -1 on failure.\n",
      " |  \n",
      " |  rindex(...)\n",
      " |      S.rindex(sub[, start[, end]]) -> int\n",
      " |      \n",
      " |      Return the highest index in S where substring sub is found,\n",
      " |      such that sub is contained within S[start:end].  Optional\n",
      " |      arguments start and end are interpreted as in slice notation.\n",
      " |      \n",
      " |      Raises ValueError when the substring is not found.\n",
      " |  \n",
      " |  rjust(self, width, fillchar=' ', /)\n",
      " |      Return a right-justified string of length width.\n",
      " |      \n",
      " |      Padding is done using the specified fill character (default is a space).\n",
      " |  \n",
      " |  rpartition(self, sep, /)\n",
      " |      Partition the string into three parts using the given separator.\n",
      " |      \n",
      " |      This will search for the separator in the string, starting at the end. If\n",
      " |      the separator is found, returns a 3-tuple containing the part before the\n",
      " |      separator, the separator itself, and the part after it.\n",
      " |      \n",
      " |      If the separator is not found, returns a 3-tuple containing two empty strings\n",
      " |      and the original string.\n",
      " |  \n",
      " |  rsplit(self, /, sep=None, maxsplit=-1)\n",
      " |      Return a list of the words in the string, using sep as the delimiter string.\n",
      " |      \n",
      " |        sep\n",
      " |          The delimiter according which to split the string.\n",
      " |          None (the default value) means split according to any whitespace,\n",
      " |          and discard empty strings from the result.\n",
      " |        maxsplit\n",
      " |          Maximum number of splits to do.\n",
      " |          -1 (the default value) means no limit.\n",
      " |      \n",
      " |      Splits are done starting at the end of the string and working to the front.\n",
      " |  \n",
      " |  rstrip(self, chars=None, /)\n",
      " |      Return a copy of the string with trailing whitespace removed.\n",
      " |      \n",
      " |      If chars is given and not None, remove characters in chars instead.\n",
      " |  \n",
      " |  split(self, /, sep=None, maxsplit=-1)\n",
      " |      Return a list of the words in the string, using sep as the delimiter string.\n",
      " |      \n",
      " |      sep\n",
      " |        The delimiter according which to split the string.\n",
      " |        None (the default value) means split according to any whitespace,\n",
      " |        and discard empty strings from the result.\n",
      " |      maxsplit\n",
      " |        Maximum number of splits to do.\n",
      " |        -1 (the default value) means no limit.\n",
      " |  \n",
      " |  splitlines(self, /, keepends=False)\n",
      " |      Return a list of the lines in the string, breaking at line boundaries.\n",
      " |      \n",
      " |      Line breaks are not included in the resulting list unless keepends is given and\n",
      " |      true.\n",
      " |  \n",
      " |  startswith(...)\n",
      " |      S.startswith(prefix[, start[, end]]) -> bool\n",
      " |      \n",
      " |      Return True if S starts with the specified prefix, False otherwise.\n",
      " |      With optional start, test S beginning at that position.\n",
      " |      With optional end, stop comparing S at that position.\n",
      " |      prefix can also be a tuple of strings to try.\n",
      " |  \n",
      " |  strip(self, chars=None, /)\n",
      " |      Return a copy of the string with leading and trailing whitespace remove.\n",
      " |      \n",
      " |      If chars is given and not None, remove characters in chars instead.\n",
      " |  \n",
      " |  swapcase(self, /)\n",
      " |      Convert uppercase characters to lowercase and lowercase characters to uppercase.\n",
      " |  \n",
      " |  title(self, /)\n",
      " |      Return a version of the string where each word is titlecased.\n",
      " |      \n",
      " |      More specifically, words start with uppercased characters and all remaining\n",
      " |      cased characters have lower case.\n",
      " |  \n",
      " |  translate(self, table, /)\n",
      " |      Replace each character in the string using the given translation table.\n",
      " |      \n",
      " |        table\n",
      " |          Translation table, which must be a mapping of Unicode ordinals to\n",
      " |          Unicode ordinals, strings, or None.\n",
      " |      \n",
      " |      The table must implement lookup/indexing via __getitem__, for instance a\n",
      " |      dictionary or list.  If this operation raises LookupError, the character is\n",
      " |      left untouched.  Characters mapped to None are deleted.\n",
      " |  \n",
      " |  upper(self, /)\n",
      " |      Return a copy of the string converted to uppercase.\n",
      " |  \n",
      " |  zfill(self, width, /)\n",
      " |      Pad a numeric string with zeros on the left, to fill a field of the given width.\n",
      " |      \n",
      " |      The string is never truncated.\n",
      " |  \n",
      " |  ----------------------------------------------------------------------\n",
      " |  Static methods defined here:\n",
      " |  \n",
      " |  __new__(*args, **kwargs) from builtins.type\n",
      " |      Create and return a new object.  See help(type) for accurate signature.\n",
      " |  \n",
      " |  maketrans(x, y=None, z=None, /)\n",
      " |      Return a translation table usable for str.translate().\n",
      " |      \n",
      " |      If there is only one argument, it must be a dictionary mapping Unicode\n",
      " |      ordinals (integers) or characters to Unicode ordinals, strings or None.\n",
      " |      Character keys will be then converted to ordinals.\n",
      " |      If there are two arguments, they must be strings of equal length, and\n",
      " |      in the resulting dictionary, each character in x will be mapped to the\n",
      " |      character at the same position in y. If there is a third argument, it\n",
      " |      must be a string, whose characters will be mapped to None in the result.\n",
      "\n"
     ]
    }
   ],
   "source": [
    "help(str)"
   ]
  },
  {
   "cell_type": "code",
   "execution_count": 89,
   "metadata": {},
   "outputs": [
    {
     "name": "stdout",
     "output_type": "stream",
     "text": [
      "0 9  min and max of argument  a\n",
      "2 11  min and max of argument  b\n"
     ]
    }
   ],
   "source": [
    "# A more advanced function\n",
    "def calcStats(**kw):  #kw represent a dictionary of all the arguments passed to the function of the form a=b\n",
    "\n",
    "  for a,b in kw.items(): # items is a function in the dictionary class that returns a tuple a=b\n",
    "      print(min(b),max(b), \" min and max of argument \",a)\n",
    "a=range(10)\n",
    "b=range(2,12) #range takes additional arguments (min,max) or (min,max,step)\n",
    "calcStats(a=a,b=b)\n",
    "\n",
    "    "
   ]
  },
  {
   "cell_type": "markdown",
   "metadata": {},
   "source": [
    "# Modules\n",
    "\n",
    "Code reuse is enabled by modules. You say want to use the contents of a module using the import command."
   ]
  },
  {
   "cell_type": "code",
   "execution_count": 90,
   "metadata": {},
   "outputs": [
    {
     "name": "stdout",
     "output_type": "stream",
     "text": [
      "Help on built-in function asin in module math:\n",
      "\n",
      "asin(x, /)\n",
      "    Return the arc sine (measured in radians) of x.\n",
      "\n"
     ]
    }
   ],
   "source": [
    "import math\n",
    "help(math.asin)"
   ]
  },
  {
   "cell_type": "code",
   "execution_count": 91,
   "metadata": {},
   "outputs": [
    {
     "name": "stdout",
     "output_type": "stream",
     "text": [
      "Help on built-in function asin in module math:\n",
      "\n",
      "asin(x, /)\n",
      "    Return the arc sine (measured in radians) of x.\n",
      "\n"
     ]
    }
   ],
   "source": [
    "from math import *\n",
    "help(asin)"
   ]
  },
  {
   "cell_type": "markdown",
   "metadata": {},
   "source": [
    "# Numpy"
   ]
  },
  {
   "cell_type": "code",
   "execution_count": 92,
   "metadata": {},
   "outputs": [],
   "source": [
    "import numpy as np\n",
    "x=np.random.rand(1000,1000,100)\n"
   ]
  },
  {
   "cell_type": "code",
   "execution_count": 93,
   "metadata": {},
   "outputs": [
    {
     "name": "stdout",
     "output_type": "stream",
     "text": [
      "42591660 1.8066983464848363e-09\n",
      "CPU times: user 281 ms, sys: 12.2 ms, total: 293 ms\n",
      "Wall time: 309 ms\n"
     ]
    }
   ],
   "source": [
    "%%time\n",
    "print(x.argmin(),x.min())"
   ]
  },
  {
   "cell_type": "code",
   "execution_count": 94,
   "metadata": {},
   "outputs": [],
   "source": [
    "def mn(x):\n",
    "    mn=x[0,0,0]\n",
    "    imn=0\n",
    "    i=0\n",
    "    for i3 in range(x.shape[0]):\n",
    "        for i2 in range(x.shape[1]):\n",
    "            for i1 in range(x.shape[2]):\n",
    "                if x[i3,i2,i1]<mn:\n",
    "                    imn=i\n",
    "                    i=i+1\n",
    "                    mn=x[i3,i2,i1]\n",
    "    return mn,imn"
   ]
  },
  {
   "cell_type": "code",
   "execution_count": 95,
   "metadata": {},
   "outputs": [
    {
     "name": "stdout",
     "output_type": "stream",
     "text": [
      "(1.8066983464848363e-09, 16)\n",
      "CPU times: user 23.3 s, sys: 375 ms, total: 23.7 s\n",
      "Wall time: 24.4 s\n"
     ]
    }
   ],
   "source": [
    "%%time\n",
    "print(mn(x))"
   ]
  },
  {
   "cell_type": "markdown",
   "metadata": {},
   "source": [
    "The order of magnitudes difference in speed is because argmin and min are coded in a language called Cython. Cython is compiled code. Compiled code is generally 10-10000 faster than python.\n",
    "\n",
    "## Sneak peak"
   ]
  },
  {
   "cell_type": "code",
   "execution_count": 96,
   "metadata": {},
   "outputs": [],
   "source": [
    "from numba import jit\n",
    "@jit(nopython=True)\n",
    "def mnJ(x):\n",
    "    mn=x[0,0,0]\n",
    "    imn=0\n",
    "    i=0\n",
    "    for i3 in range(x.shape[0]):\n",
    "        for i2 in range(x.shape[1]):\n",
    "            for i1 in range(x.shape[2]):\n",
    "                if x[i3,i2,i1]<mn:\n",
    "                    imn=i\n",
    "                    i=i+1\n",
    "                    mn=x[i3,i2,i1]\n",
    "    return mn,imn"
   ]
  },
  {
   "cell_type": "code",
   "execution_count": 29,
   "metadata": {},
   "outputs": [
    {
     "name": "stdout",
     "output_type": "stream",
     "text": [
      "(4.760358773836515e-11, 21)\n",
      "(4.760358773836515e-11, 21)\n",
      "(4.760358773836515e-11, 21)\n",
      "(4.760358773836515e-11, 21)\n",
      "(4.760358773836515e-11, 21)\n",
      "CPU times: user 881 ms, sys: 11.7 ms, total: 892 ms\n",
      "Wall time: 898 ms\n"
     ]
    }
   ],
   "source": [
    "%%time\n",
    "for i in range(5):\n",
    "    print(mnJ(x))"
   ]
  },
  {
   "cell_type": "markdown",
   "metadata": {},
   "source": [
    "# Python OOV2 (inheritance)"
   ]
  },
  {
   "cell_type": "code",
   "execution_count": 57,
   "metadata": {},
   "outputs": [],
   "source": [
    "class array3D:\n",
    "    \"\"\"Abstract class for 3-D array\"\"\"\n",
    "    def __init__(self,n1,n2,n3):\n",
    "        self._n1=n1\n",
    "        self._n2=n2\n",
    "        self._n3=n3\n",
    "    def random(self):\n",
    "        \"\"\"Fill with random numbers\"\"\"\n",
    "        raise Exception(\"Fill with random numbers\")\n",
    "    def __mul__(self,v):\n",
    "        raise Exception(\"Multiplication needs to be overriten\")\n",
    "    def __add__(self,v):\n",
    "        raise Exception(\"Addition needs to be overriten\")\n",
    "    def __sub__(self,v):\n",
    "        raise Exception(\"Subtractions needs to be overriten\")\n",
    "    def __truediv__(self,v):\n",
    "        raise Exception(\"Division needs to be overriten\")\n",
    "    def getNP(self):\n",
    "        raise Exception(\"Get numpy representation of the array\")\n",
    "    def __str__(self):\n",
    "        return \"n=[%d,%d,%d]\"%(self._n1,self._n2,self._n3)\n",
    "print(b)"
   ]
  },
  {
   "cell_type": "code",
   "execution_count": 84,
   "metadata": {},
   "outputs": [],
   "source": [
    "import copy\n",
    "class npArray3D(array3D): \n",
    "    \"\"\"A class for 3-D numpy array\"\"\"\n",
    "    def __init__(self,**kw):\n",
    "        \"\"\"\n",
    "          Initialize a numpy array \n",
    "          \n",
    "          Method 1:\n",
    "           ns=[n1,n2,n3] Initialize with a 3-D list\n",
    "        \n",
    "          Method 2:\n",
    "            n1,n2,n3 Initialize with a n1,n2,n3\n",
    "            \n",
    "          Method 3:\n",
    "            array  Initalize with another 3-D array\n",
    "    \n",
    "        \"\"\"\n",
    "    \n",
    "        if \"ns\" in kw:\n",
    "            if not isinstance(kw[\"ns\"],list):\n",
    "                raise Exception(\"Expecting ns to be a list\")\n",
    "            if len(kw[\"ns\"]) !=3:\n",
    "                raise Exception(\"Expecting ns to be a list of size 3\")\n",
    "            super().__init__(kw[\"ns\"][0],kw[\"ns\"][1],kw[\"ns\"][2])\n",
    "            self._ar=np.ndarray(self._n3,self._n2,self._n1)\n",
    "        elif \"n1\" in kw:\n",
    "            if \"n2\" not in kw or \"n3\" not in kw:\n",
    "                raise Exception(\"Expecting n2 and n3 when n1 is specified\")\n",
    "            if not isinstance(kw[\"n1\"],int) or not isinstance(kw[\"n2\"],int) or not isinstance(kw[\"n3\"],int):\n",
    "                raise Exception(\"Expecting n1,n2, and n3 to be ints\")\n",
    "            super().__init__(kw[\"n1\"],kw[\"n2\"],kw[\"n3\"])\n",
    "            self._ar=np.ndarray((self._n3,self._n2,self._n1))\n",
    "        elif \"array\" in kw:\n",
    "            if not isinstance(kw[\"array\"],array3D):\n",
    "                raise Exception(\"Expecting array to be inherited from array3D type=%s\"%type(kw[\"array\"]))\n",
    "            x=kw[\"array\"]\n",
    "            super().__init__(x._n1,x._n2,x._n3)\n",
    "            self._ar=copy.deepcopy(x.getNP())\n",
    "        else:\n",
    "            raise Exception(\"Unknown initalization method\")\n",
    "    def setup(self,v):\n",
    "        \"\"\"Make sure we have the correct type\"\"\"\n",
    "        if not isinstance(v,npArray3D):\n",
    "            raise Exception(\"invalid type\")\n",
    "        return npArray3D(n1=self._n1,n2=self._n2,n3=self._n3)\n",
    "\n",
    "    def __mul__(self,v):\n",
    "        x=self.setup(v)\n",
    "        x._ar=np.mutliply(self._ar,v)\n",
    "        return x\n",
    "    def random(self):\n",
    "        self._ar = np.random.rand(self._n3,self._n2,self._n1)\n",
    "    def getNP(self):\n",
    "        return self._ar\n",
    "    \n",
    "    def __add__(self,v):\n",
    "        x=self.setup(v)\n",
    "        x._ar=np.add(self._ar,v._ar)    \n",
    "        return x\n",
    "    def __sub__(self,v):\n",
    "        x=self.setup(v)\n",
    "        x._ar=np.subtract(self._ar,v._ar) \n",
    "        return x\n",
    "    def __truediv__(add,v):\n",
    "        x=self.setup(v)\n",
    "        x._ar=np.divide(self._ar,v._ar)\n",
    "        return x"
   ]
  },
  {
   "cell_type": "code",
   "execution_count": 85,
   "metadata": {},
   "outputs": [
    {
     "name": "stdout",
     "output_type": "stream",
     "text": [
      "n=[100,100,100]\n"
     ]
    }
   ],
   "source": [
    "\n",
    "x=npArray3D(n1=100,n2=100,n3=100)\n",
    "x.random()\n",
    "y=npArray3D(array=x)\n",
    "z=x+y\n",
    "print(z)"
   ]
  },
  {
   "cell_type": "code",
   "execution_count": null,
   "metadata": {},
   "outputs": [],
   "source": []
  }
 ],
 "metadata": {
  "kernelspec": {
   "display_name": "Python 3",
   "language": "python",
   "name": "python3"
  },
  "language_info": {
   "codemirror_mode": {
    "name": "ipython",
    "version": 3
   },
   "file_extension": ".py",
   "mimetype": "text/x-python",
   "name": "python",
   "nbconvert_exporter": "python",
   "pygments_lexer": "ipython3",
   "version": "3.7.4"
  },
  "latex_envs": {
   "LaTeX_envs_menu_present": true,
   "autoclose": false,
   "autocomplete": true,
   "bibliofile": "biblio.bib",
   "cite_by": "apalike",
   "current_citInitial": 1,
   "eqLabelWithNumbers": true,
   "eqNumInitial": 1,
   "hotkeys": {
    "equation": "Ctrl-E",
    "itemize": "Ctrl-I"
   },
   "labels_anchors": false,
   "latex_user_defs": false,
   "report_style_numbering": false,
   "user_envs_cfg": false
  },
  "toc": {
   "base_numbering": 1,
   "nav_menu": {},
   "number_sections": true,
   "sideBar": true,
   "skip_h1_title": false,
   "title_cell": "Table of Contents",
   "title_sidebar": "Contents",
   "toc_cell": false,
   "toc_position": {},
   "toc_section_display": true,
   "toc_window_display": false
  }
 },
 "nbformat": 4,
 "nbformat_minor": 2
}
